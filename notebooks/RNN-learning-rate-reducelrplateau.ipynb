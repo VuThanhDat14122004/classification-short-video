{
  "cells": [
    {
      "cell_type": "code",
      "execution_count": 1,
      "metadata": {
        "colab": {
          "base_uri": "https://localhost:8080/"
        },
        "execution": {
          "iopub.execute_input": "2024-12-11T16:03:12.251992Z",
          "iopub.status.busy": "2024-12-11T16:03:12.251474Z",
          "iopub.status.idle": "2024-12-11T16:03:15.360414Z",
          "shell.execute_reply": "2024-12-11T16:03:15.358913Z",
          "shell.execute_reply.started": "2024-12-11T16:03:12.251944Z"
        },
        "id": "En5FirQ75crZ",
        "outputId": "0bf63e8f-a06c-494f-b86c-2ab42135d64e",
        "trusted": true
      },
      "outputs": [
        {
          "name": "stdout",
          "output_type": "stream",
          "text": [
            "Mounted at /content/drive\n"
          ]
        }
      ],
      "source": [
        "from google.colab import drive\n",
        "drive.mount('/content/drive')\n",
        "\n",
        "import os\n",
        "os.chdir(\"/content/drive/MyDrive/Colab Notebooks/classification short video\")"
      ]
    },
    {
      "cell_type": "code",
      "execution_count": 15,
      "metadata": {
        "colab": {
          "base_uri": "https://localhost:8080/"
        },
        "id": "WtoEs0E8VF6b",
        "outputId": "4be19354-6b81-4e9a-9444-35c4a7785a02"
      },
      "outputs": [
        {
          "name": "stdout",
          "output_type": "stream",
          "text": [
            "Downloading...\n",
            "From (original): https://drive.google.com/uc?id=1H7ZxxYCFhEgVLAu4aN_u-afSJbVqrMFZ\n",
            "From (redirected): https://drive.google.com/uc?id=1H7ZxxYCFhEgVLAu4aN_u-afSJbVqrMFZ&confirm=t&uuid=ba3ae9fb-9c95-446a-9649-c20124194f56\n",
            "To: /content/drive/MyDrive/Colab Notebooks/classification short video/val_dataset.pickle\n",
            "100% 864M/864M [00:14<00:00, 60.6MB/s]\n"
          ]
        }
      ],
      "source": [
        "!gdown 1H7ZxxYCFhEgVLAu4aN_u-afSJbVqrMFZ"
      ]
    },
    {
      "cell_type": "code",
      "execution_count": 17,
      "metadata": {
        "id": "GGzTseXSVrIi"
      },
      "outputs": [],
      "source": [
        "!mv ./val_dataset.pickle ./dataset/val_dataset.pickle"
      ]
    },
    {
      "cell_type": "markdown",
      "metadata": {
        "id": "qTRZy_or403H"
      },
      "source": [
        "### 1. Import module"
      ]
    },
    {
      "cell_type": "code",
      "execution_count": 18,
      "metadata": {
        "execution": {
          "iopub.execute_input": "2024-12-12T13:25:47.525843Z",
          "iopub.status.busy": "2024-12-12T13:25:47.525054Z",
          "iopub.status.idle": "2024-12-12T13:25:52.850346Z",
          "shell.execute_reply": "2024-12-12T13:25:52.849439Z",
          "shell.execute_reply.started": "2024-12-12T13:25:47.525784Z"
        },
        "id": "zh9-lTez403J",
        "trusted": true
      },
      "outputs": [],
      "source": [
        "import torch\n",
        "import torchvision\n",
        "from torch.utils.data import Dataset, DataLoader\n",
        "import matplotlib.pyplot as plt\n",
        "import numpy as np\n",
        "import io\n",
        "import torch.nn as nn\n",
        "import os\n",
        "import pandas as pd\n",
        "import cv2\n",
        "from torch.nn.utils.rnn import pad_sequence\n",
        "from sklearn.preprocessing import LabelEncoder\n",
        "from tqdm import tqdm\n",
        "from torchvision import transforms\n",
        "import gc"
      ]
    },
    {
      "cell_type": "markdown",
      "metadata": {
        "id": "BaDAX1j6403K"
      },
      "source": [
        "### Load the dataset"
      ]
    },
    {
      "cell_type": "markdown",
      "metadata": {
        "id": "XjqhE2YY4z-R"
      },
      "source": [
        "#### function load video"
      ]
    },
    {
      "cell_type": "code",
      "execution_count": 19,
      "metadata": {
        "execution": {
          "iopub.execute_input": "2024-12-12T13:25:52.852058Z",
          "iopub.status.busy": "2024-12-12T13:25:52.851649Z",
          "iopub.status.idle": "2024-12-12T13:25:52.859635Z",
          "shell.execute_reply": "2024-12-12T13:25:52.858648Z",
          "shell.execute_reply.started": "2024-12-12T13:25:52.852029Z"
        },
        "id": "6qcai4ph403K",
        "trusted": true
      },
      "outputs": [],
      "source": [
        "def load_video(path, max_frame=100, size=(480,480)):\n",
        "    capture = cv2.VideoCapture(path)\n",
        "    all_frames = []\n",
        "    while True:\n",
        "        ret, frame = capture.read()\n",
        "        if len(all_frames) == max_frame:\n",
        "            break\n",
        "        if not ret:\n",
        "            break\n",
        "        frame = get_center_square(frame)\n",
        "        frame = cv2.resize(frame,size)\n",
        "        frame = frame[:, :, [2,1,0]] # ảnh đọc ra bởi cv2 ở dạng BGR, chuyển về RGB\n",
        "        frame = torch.tensor(frame)\n",
        "        frame = frame.permute(2,0,1) # chuyển về channel, height, width\n",
        "        all_frames.append(frame)\n",
        "    capture.release()\n",
        "    return torch.stack(all_frames, dim=0) # dim = (100, 3, size[0], size[1])\n",
        "\n",
        "\n",
        "\"\"\"Get center square of frame\"\"\"\n",
        "def get_center_square(frame):\n",
        "    y, x = frame.shape[0:2]\n",
        "    min_lenght = min(x,y)\n",
        "    start_x = (x//2) - min_lenght//2\n",
        "    start_y = (y//2) - min_lenght//2\n",
        "    frame = frame[start_y : start_y + min_lenght, start_x : start_x + min_lenght]\n",
        "    return frame"
      ]
    },
    {
      "cell_type": "markdown",
      "metadata": {
        "id": "7XSTEo6H403L"
      },
      "source": [
        "#### Create dataframe"
      ]
    },
    {
      "cell_type": "code",
      "execution_count": 20,
      "metadata": {
        "execution": {
          "iopub.execute_input": "2024-12-12T13:25:52.934720Z",
          "iopub.status.busy": "2024-12-12T13:25:52.934394Z",
          "iopub.status.idle": "2024-12-12T13:25:52.941905Z",
          "shell.execute_reply": "2024-12-12T13:25:52.941097Z",
          "shell.execute_reply.started": "2024-12-12T13:25:52.934683Z"
        },
        "id": "R4izZxdz403L",
        "trusted": true
      },
      "outputs": [],
      "source": [
        "def create_dataframe_metadata(df, start, end, label_encoder=None, encode_label=None):\n",
        "    df_punch = df[df['tag'] == 'Punch']\n",
        "    df_playCello = df[df['tag'] == 'PlayingCello']\n",
        "    df_CricketShot = df[df['tag'] == 'CricketShot']\n",
        "    df_ShavingBeard = df[df['tag'] == 'ShavingBeard']\n",
        "    df_TennisSwing = df[df['tag'] == 'TennisSwing']\n",
        "    new_df = pd.concat([df_punch[start:end], df_playCello[start:end], df_CricketShot[start:end], df_ShavingBeard[start:end], df_TennisSwing[start:end]], ignore_index=True)\n",
        "    new_df['origin_tag'] = new_df['tag']\n",
        "    if label_encoder is not None:\n",
        "        new_df['tag'] = label_encoder.fit_transform(new_df['tag'])\n",
        "    else:\n",
        "        new_df['tag'] = new_df['tag'].map(encode_label)\n",
        "    return new_df"
      ]
    },
    {
      "cell_type": "code",
      "execution_count": 21,
      "metadata": {
        "execution": {
          "iopub.execute_input": "2024-12-12T13:25:52.860746Z",
          "iopub.status.busy": "2024-12-12T13:25:52.860524Z",
          "iopub.status.idle": "2024-12-12T13:25:52.915615Z",
          "shell.execute_reply": "2024-12-12T13:25:52.914816Z",
          "shell.execute_reply.started": "2024-12-12T13:25:52.860723Z"
        },
        "id": "UUgbdbK7403L",
        "trusted": true
      },
      "outputs": [],
      "source": [
        "folder_path_train = \"./video_data/train/\"\n",
        "folder_path_test = \"./video_data/test/\"\n",
        "\n",
        "train_df = pd.read_csv(\"./video_data/train.csv\")\n",
        "test_df = pd.read_csv(\"./video_data/test.csv\")"
      ]
    },
    {
      "cell_type": "code",
      "execution_count": 22,
      "metadata": {
        "colab": {
          "base_uri": "https://localhost:8080/"
        },
        "execution": {
          "iopub.execute_input": "2024-12-12T13:25:52.917594Z",
          "iopub.status.busy": "2024-12-12T13:25:52.917347Z",
          "iopub.status.idle": "2024-12-12T13:25:52.933308Z",
          "shell.execute_reply": "2024-12-12T13:25:52.932439Z",
          "shell.execute_reply.started": "2024-12-12T13:25:52.917569Z"
        },
        "id": "SrPrcNUZ403L",
        "outputId": "2c0134ba-57c6-4d13-aea9-71c3ec3669a9",
        "trusted": true
      },
      "outputs": [
        {
          "name": "stdout",
          "output_type": "stream",
          "text": [
            "tag\n",
            "Punch           121\n",
            "PlayingCello    120\n",
            "CricketShot     118\n",
            "ShavingBeard    118\n",
            "TennisSwing     117\n",
            "Name: count, dtype: int64\n",
            "tag\n",
            "CricketShot     49\n",
            "TennisSwing     49\n",
            "PlayingCello    44\n",
            "ShavingBeard    43\n",
            "Punch           39\n",
            "Name: count, dtype: int64\n"
          ]
        }
      ],
      "source": [
        "print(train_df['tag'].value_counts())\n",
        "print(test_df['tag'].value_counts())"
      ]
    },
    {
      "cell_type": "code",
      "execution_count": 23,
      "metadata": {
        "execution": {
          "iopub.execute_input": "2024-12-12T13:25:52.943074Z",
          "iopub.status.busy": "2024-12-12T13:25:52.942834Z",
          "iopub.status.idle": "2024-12-12T13:25:52.958228Z",
          "shell.execute_reply": "2024-12-12T13:25:52.957542Z",
          "shell.execute_reply.started": "2024-12-12T13:25:52.943050Z"
        },
        "id": "lI5eS-9Y403M",
        "trusted": true
      },
      "outputs": [],
      "source": [
        "label_encoder = LabelEncoder()"
      ]
    },
    {
      "cell_type": "code",
      "execution_count": 24,
      "metadata": {
        "colab": {
          "base_uri": "https://localhost:8080/",
          "height": 0
        },
        "execution": {
          "iopub.execute_input": "2024-12-12T13:25:52.959440Z",
          "iopub.status.busy": "2024-12-12T13:25:52.959192Z",
          "iopub.status.idle": "2024-12-12T13:25:52.986760Z",
          "shell.execute_reply": "2024-12-12T13:25:52.985977Z",
          "shell.execute_reply.started": "2024-12-12T13:25:52.959417Z"
        },
        "id": "0pyrjHnG403M",
        "outputId": "716d29af-6442-4d58-dee4-8c35fecf9ac4",
        "trusted": true
      },
      "outputs": [
        {
          "data": {
            "application/vnd.google.colaboratory.intrinsic+json": {
              "summary": "{\n  \"name\": \"df_train\",\n  \"rows\": 450,\n  \"fields\": [\n    {\n      \"column\": \"video_name\",\n      \"properties\": {\n        \"dtype\": \"string\",\n        \"num_unique_values\": 450,\n        \"samples\": [\n          \"v_TennisSwing_g14_c07.avi\",\n          \"v_TennisSwing_g20_c04.avi\",\n          \"v_PlayingCello_g12_c01.avi\"\n        ],\n        \"semantic_type\": \"\",\n        \"description\": \"\"\n      }\n    },\n    {\n      \"column\": \"tag\",\n      \"properties\": {\n        \"dtype\": \"number\",\n        \"std\": 1,\n        \"min\": 0,\n        \"max\": 4,\n        \"num_unique_values\": 5,\n        \"samples\": [\n          1,\n          4,\n          0\n        ],\n        \"semantic_type\": \"\",\n        \"description\": \"\"\n      }\n    },\n    {\n      \"column\": \"origin_tag\",\n      \"properties\": {\n        \"dtype\": \"category\",\n        \"num_unique_values\": 5,\n        \"samples\": [\n          \"PlayingCello\",\n          \"TennisSwing\",\n          \"CricketShot\"\n        ],\n        \"semantic_type\": \"\",\n        \"description\": \"\"\n      }\n    }\n  ]\n}",
              "type": "dataframe",
              "variable_name": "df_train"
            },
            "text/html": [
              "\n",
              "  <div id=\"df-f00626df-f9f7-4bf3-8c5e-8c4726031200\" class=\"colab-df-container\">\n",
              "    <div>\n",
              "<style scoped>\n",
              "    .dataframe tbody tr th:only-of-type {\n",
              "        vertical-align: middle;\n",
              "    }\n",
              "\n",
              "    .dataframe tbody tr th {\n",
              "        vertical-align: top;\n",
              "    }\n",
              "\n",
              "    .dataframe thead th {\n",
              "        text-align: right;\n",
              "    }\n",
              "</style>\n",
              "<table border=\"1\" class=\"dataframe\">\n",
              "  <thead>\n",
              "    <tr style=\"text-align: right;\">\n",
              "      <th></th>\n",
              "      <th>video_name</th>\n",
              "      <th>tag</th>\n",
              "      <th>origin_tag</th>\n",
              "    </tr>\n",
              "  </thead>\n",
              "  <tbody>\n",
              "    <tr>\n",
              "      <th>0</th>\n",
              "      <td>v_Punch_g08_c01.avi</td>\n",
              "      <td>2</td>\n",
              "      <td>Punch</td>\n",
              "    </tr>\n",
              "    <tr>\n",
              "      <th>1</th>\n",
              "      <td>v_Punch_g08_c02.avi</td>\n",
              "      <td>2</td>\n",
              "      <td>Punch</td>\n",
              "    </tr>\n",
              "    <tr>\n",
              "      <th>2</th>\n",
              "      <td>v_Punch_g08_c03.avi</td>\n",
              "      <td>2</td>\n",
              "      <td>Punch</td>\n",
              "    </tr>\n",
              "    <tr>\n",
              "      <th>3</th>\n",
              "      <td>v_Punch_g08_c04.avi</td>\n",
              "      <td>2</td>\n",
              "      <td>Punch</td>\n",
              "    </tr>\n",
              "    <tr>\n",
              "      <th>4</th>\n",
              "      <td>v_Punch_g08_c05.avi</td>\n",
              "      <td>2</td>\n",
              "      <td>Punch</td>\n",
              "    </tr>\n",
              "    <tr>\n",
              "      <th>...</th>\n",
              "      <td>...</td>\n",
              "      <td>...</td>\n",
              "      <td>...</td>\n",
              "    </tr>\n",
              "    <tr>\n",
              "      <th>445</th>\n",
              "      <td>v_TennisSwing_g20_c05.avi</td>\n",
              "      <td>4</td>\n",
              "      <td>TennisSwing</td>\n",
              "    </tr>\n",
              "    <tr>\n",
              "      <th>446</th>\n",
              "      <td>v_TennisSwing_g20_c06.avi</td>\n",
              "      <td>4</td>\n",
              "      <td>TennisSwing</td>\n",
              "    </tr>\n",
              "    <tr>\n",
              "      <th>447</th>\n",
              "      <td>v_TennisSwing_g21_c01.avi</td>\n",
              "      <td>4</td>\n",
              "      <td>TennisSwing</td>\n",
              "    </tr>\n",
              "    <tr>\n",
              "      <th>448</th>\n",
              "      <td>v_TennisSwing_g21_c02.avi</td>\n",
              "      <td>4</td>\n",
              "      <td>TennisSwing</td>\n",
              "    </tr>\n",
              "    <tr>\n",
              "      <th>449</th>\n",
              "      <td>v_TennisSwing_g21_c03.avi</td>\n",
              "      <td>4</td>\n",
              "      <td>TennisSwing</td>\n",
              "    </tr>\n",
              "  </tbody>\n",
              "</table>\n",
              "<p>450 rows × 3 columns</p>\n",
              "</div>\n",
              "    <div class=\"colab-df-buttons\">\n",
              "\n",
              "  <div class=\"colab-df-container\">\n",
              "    <button class=\"colab-df-convert\" onclick=\"convertToInteractive('df-f00626df-f9f7-4bf3-8c5e-8c4726031200')\"\n",
              "            title=\"Convert this dataframe to an interactive table.\"\n",
              "            style=\"display:none;\">\n",
              "\n",
              "  <svg xmlns=\"http://www.w3.org/2000/svg\" height=\"24px\" viewBox=\"0 -960 960 960\">\n",
              "    <path d=\"M120-120v-720h720v720H120Zm60-500h600v-160H180v160Zm220 220h160v-160H400v160Zm0 220h160v-160H400v160ZM180-400h160v-160H180v160Zm440 0h160v-160H620v160ZM180-180h160v-160H180v160Zm440 0h160v-160H620v160Z\"/>\n",
              "  </svg>\n",
              "    </button>\n",
              "\n",
              "  <style>\n",
              "    .colab-df-container {\n",
              "      display:flex;\n",
              "      gap: 12px;\n",
              "    }\n",
              "\n",
              "    .colab-df-convert {\n",
              "      background-color: #E8F0FE;\n",
              "      border: none;\n",
              "      border-radius: 50%;\n",
              "      cursor: pointer;\n",
              "      display: none;\n",
              "      fill: #1967D2;\n",
              "      height: 32px;\n",
              "      padding: 0 0 0 0;\n",
              "      width: 32px;\n",
              "    }\n",
              "\n",
              "    .colab-df-convert:hover {\n",
              "      background-color: #E2EBFA;\n",
              "      box-shadow: 0px 1px 2px rgba(60, 64, 67, 0.3), 0px 1px 3px 1px rgba(60, 64, 67, 0.15);\n",
              "      fill: #174EA6;\n",
              "    }\n",
              "\n",
              "    .colab-df-buttons div {\n",
              "      margin-bottom: 4px;\n",
              "    }\n",
              "\n",
              "    [theme=dark] .colab-df-convert {\n",
              "      background-color: #3B4455;\n",
              "      fill: #D2E3FC;\n",
              "    }\n",
              "\n",
              "    [theme=dark] .colab-df-convert:hover {\n",
              "      background-color: #434B5C;\n",
              "      box-shadow: 0px 1px 3px 1px rgba(0, 0, 0, 0.15);\n",
              "      filter: drop-shadow(0px 1px 2px rgba(0, 0, 0, 0.3));\n",
              "      fill: #FFFFFF;\n",
              "    }\n",
              "  </style>\n",
              "\n",
              "    <script>\n",
              "      const buttonEl =\n",
              "        document.querySelector('#df-f00626df-f9f7-4bf3-8c5e-8c4726031200 button.colab-df-convert');\n",
              "      buttonEl.style.display =\n",
              "        google.colab.kernel.accessAllowed ? 'block' : 'none';\n",
              "\n",
              "      async function convertToInteractive(key) {\n",
              "        const element = document.querySelector('#df-f00626df-f9f7-4bf3-8c5e-8c4726031200');\n",
              "        const dataTable =\n",
              "          await google.colab.kernel.invokeFunction('convertToInteractive',\n",
              "                                                    [key], {});\n",
              "        if (!dataTable) return;\n",
              "\n",
              "        const docLinkHtml = 'Like what you see? Visit the ' +\n",
              "          '<a target=\"_blank\" href=https://colab.research.google.com/notebooks/data_table.ipynb>data table notebook</a>'\n",
              "          + ' to learn more about interactive tables.';\n",
              "        element.innerHTML = '';\n",
              "        dataTable['output_type'] = 'display_data';\n",
              "        await google.colab.output.renderOutput(dataTable, element);\n",
              "        const docLink = document.createElement('div');\n",
              "        docLink.innerHTML = docLinkHtml;\n",
              "        element.appendChild(docLink);\n",
              "      }\n",
              "    </script>\n",
              "  </div>\n",
              "\n",
              "\n",
              "<div id=\"df-00d11b06-d21b-44f4-8a40-d2e75cac109f\">\n",
              "  <button class=\"colab-df-quickchart\" onclick=\"quickchart('df-00d11b06-d21b-44f4-8a40-d2e75cac109f')\"\n",
              "            title=\"Suggest charts\"\n",
              "            style=\"display:none;\">\n",
              "\n",
              "<svg xmlns=\"http://www.w3.org/2000/svg\" height=\"24px\"viewBox=\"0 0 24 24\"\n",
              "     width=\"24px\">\n",
              "    <g>\n",
              "        <path d=\"M19 3H5c-1.1 0-2 .9-2 2v14c0 1.1.9 2 2 2h14c1.1 0 2-.9 2-2V5c0-1.1-.9-2-2-2zM9 17H7v-7h2v7zm4 0h-2V7h2v10zm4 0h-2v-4h2v4z\"/>\n",
              "    </g>\n",
              "</svg>\n",
              "  </button>\n",
              "\n",
              "<style>\n",
              "  .colab-df-quickchart {\n",
              "      --bg-color: #E8F0FE;\n",
              "      --fill-color: #1967D2;\n",
              "      --hover-bg-color: #E2EBFA;\n",
              "      --hover-fill-color: #174EA6;\n",
              "      --disabled-fill-color: #AAA;\n",
              "      --disabled-bg-color: #DDD;\n",
              "  }\n",
              "\n",
              "  [theme=dark] .colab-df-quickchart {\n",
              "      --bg-color: #3B4455;\n",
              "      --fill-color: #D2E3FC;\n",
              "      --hover-bg-color: #434B5C;\n",
              "      --hover-fill-color: #FFFFFF;\n",
              "      --disabled-bg-color: #3B4455;\n",
              "      --disabled-fill-color: #666;\n",
              "  }\n",
              "\n",
              "  .colab-df-quickchart {\n",
              "    background-color: var(--bg-color);\n",
              "    border: none;\n",
              "    border-radius: 50%;\n",
              "    cursor: pointer;\n",
              "    display: none;\n",
              "    fill: var(--fill-color);\n",
              "    height: 32px;\n",
              "    padding: 0;\n",
              "    width: 32px;\n",
              "  }\n",
              "\n",
              "  .colab-df-quickchart:hover {\n",
              "    background-color: var(--hover-bg-color);\n",
              "    box-shadow: 0 1px 2px rgba(60, 64, 67, 0.3), 0 1px 3px 1px rgba(60, 64, 67, 0.15);\n",
              "    fill: var(--button-hover-fill-color);\n",
              "  }\n",
              "\n",
              "  .colab-df-quickchart-complete:disabled,\n",
              "  .colab-df-quickchart-complete:disabled:hover {\n",
              "    background-color: var(--disabled-bg-color);\n",
              "    fill: var(--disabled-fill-color);\n",
              "    box-shadow: none;\n",
              "  }\n",
              "\n",
              "  .colab-df-spinner {\n",
              "    border: 2px solid var(--fill-color);\n",
              "    border-color: transparent;\n",
              "    border-bottom-color: var(--fill-color);\n",
              "    animation:\n",
              "      spin 1s steps(1) infinite;\n",
              "  }\n",
              "\n",
              "  @keyframes spin {\n",
              "    0% {\n",
              "      border-color: transparent;\n",
              "      border-bottom-color: var(--fill-color);\n",
              "      border-left-color: var(--fill-color);\n",
              "    }\n",
              "    20% {\n",
              "      border-color: transparent;\n",
              "      border-left-color: var(--fill-color);\n",
              "      border-top-color: var(--fill-color);\n",
              "    }\n",
              "    30% {\n",
              "      border-color: transparent;\n",
              "      border-left-color: var(--fill-color);\n",
              "      border-top-color: var(--fill-color);\n",
              "      border-right-color: var(--fill-color);\n",
              "    }\n",
              "    40% {\n",
              "      border-color: transparent;\n",
              "      border-right-color: var(--fill-color);\n",
              "      border-top-color: var(--fill-color);\n",
              "    }\n",
              "    60% {\n",
              "      border-color: transparent;\n",
              "      border-right-color: var(--fill-color);\n",
              "    }\n",
              "    80% {\n",
              "      border-color: transparent;\n",
              "      border-right-color: var(--fill-color);\n",
              "      border-bottom-color: var(--fill-color);\n",
              "    }\n",
              "    90% {\n",
              "      border-color: transparent;\n",
              "      border-bottom-color: var(--fill-color);\n",
              "    }\n",
              "  }\n",
              "</style>\n",
              "\n",
              "  <script>\n",
              "    async function quickchart(key) {\n",
              "      const quickchartButtonEl =\n",
              "        document.querySelector('#' + key + ' button');\n",
              "      quickchartButtonEl.disabled = true;  // To prevent multiple clicks.\n",
              "      quickchartButtonEl.classList.add('colab-df-spinner');\n",
              "      try {\n",
              "        const charts = await google.colab.kernel.invokeFunction(\n",
              "            'suggestCharts', [key], {});\n",
              "      } catch (error) {\n",
              "        console.error('Error during call to suggestCharts:', error);\n",
              "      }\n",
              "      quickchartButtonEl.classList.remove('colab-df-spinner');\n",
              "      quickchartButtonEl.classList.add('colab-df-quickchart-complete');\n",
              "    }\n",
              "    (() => {\n",
              "      let quickchartButtonEl =\n",
              "        document.querySelector('#df-00d11b06-d21b-44f4-8a40-d2e75cac109f button');\n",
              "      quickchartButtonEl.style.display =\n",
              "        google.colab.kernel.accessAllowed ? 'block' : 'none';\n",
              "    })();\n",
              "  </script>\n",
              "</div>\n",
              "\n",
              "  <div id=\"id_e5d4c55c-748b-4eca-8c70-787f6806d942\">\n",
              "    <style>\n",
              "      .colab-df-generate {\n",
              "        background-color: #E8F0FE;\n",
              "        border: none;\n",
              "        border-radius: 50%;\n",
              "        cursor: pointer;\n",
              "        display: none;\n",
              "        fill: #1967D2;\n",
              "        height: 32px;\n",
              "        padding: 0 0 0 0;\n",
              "        width: 32px;\n",
              "      }\n",
              "\n",
              "      .colab-df-generate:hover {\n",
              "        background-color: #E2EBFA;\n",
              "        box-shadow: 0px 1px 2px rgba(60, 64, 67, 0.3), 0px 1px 3px 1px rgba(60, 64, 67, 0.15);\n",
              "        fill: #174EA6;\n",
              "      }\n",
              "\n",
              "      [theme=dark] .colab-df-generate {\n",
              "        background-color: #3B4455;\n",
              "        fill: #D2E3FC;\n",
              "      }\n",
              "\n",
              "      [theme=dark] .colab-df-generate:hover {\n",
              "        background-color: #434B5C;\n",
              "        box-shadow: 0px 1px 3px 1px rgba(0, 0, 0, 0.15);\n",
              "        filter: drop-shadow(0px 1px 2px rgba(0, 0, 0, 0.3));\n",
              "        fill: #FFFFFF;\n",
              "      }\n",
              "    </style>\n",
              "    <button class=\"colab-df-generate\" onclick=\"generateWithVariable('df_train')\"\n",
              "            title=\"Generate code using this dataframe.\"\n",
              "            style=\"display:none;\">\n",
              "\n",
              "  <svg xmlns=\"http://www.w3.org/2000/svg\" height=\"24px\"viewBox=\"0 0 24 24\"\n",
              "       width=\"24px\">\n",
              "    <path d=\"M7,19H8.4L18.45,9,17,7.55,7,17.6ZM5,21V16.75L18.45,3.32a2,2,0,0,1,2.83,0l1.4,1.43a1.91,1.91,0,0,1,.58,1.4,1.91,1.91,0,0,1-.58,1.4L9.25,21ZM18.45,9,17,7.55Zm-12,3A5.31,5.31,0,0,0,4.9,8.1,5.31,5.31,0,0,0,1,6.5,5.31,5.31,0,0,0,4.9,4.9,5.31,5.31,0,0,0,6.5,1,5.31,5.31,0,0,0,8.1,4.9,5.31,5.31,0,0,0,12,6.5,5.46,5.46,0,0,0,6.5,12Z\"/>\n",
              "  </svg>\n",
              "    </button>\n",
              "    <script>\n",
              "      (() => {\n",
              "      const buttonEl =\n",
              "        document.querySelector('#id_e5d4c55c-748b-4eca-8c70-787f6806d942 button.colab-df-generate');\n",
              "      buttonEl.style.display =\n",
              "        google.colab.kernel.accessAllowed ? 'block' : 'none';\n",
              "\n",
              "      buttonEl.onclick = () => {\n",
              "        google.colab.notebook.generateWithVariable('df_train');\n",
              "      }\n",
              "      })();\n",
              "    </script>\n",
              "  </div>\n",
              "\n",
              "    </div>\n",
              "  </div>\n"
            ],
            "text/plain": [
              "                    video_name  tag   origin_tag\n",
              "0          v_Punch_g08_c01.avi    2        Punch\n",
              "1          v_Punch_g08_c02.avi    2        Punch\n",
              "2          v_Punch_g08_c03.avi    2        Punch\n",
              "3          v_Punch_g08_c04.avi    2        Punch\n",
              "4          v_Punch_g08_c05.avi    2        Punch\n",
              "..                         ...  ...          ...\n",
              "445  v_TennisSwing_g20_c05.avi    4  TennisSwing\n",
              "446  v_TennisSwing_g20_c06.avi    4  TennisSwing\n",
              "447  v_TennisSwing_g21_c01.avi    4  TennisSwing\n",
              "448  v_TennisSwing_g21_c02.avi    4  TennisSwing\n",
              "449  v_TennisSwing_g21_c03.avi    4  TennisSwing\n",
              "\n",
              "[450 rows x 3 columns]"
            ]
          },
          "execution_count": 24,
          "metadata": {},
          "output_type": "execute_result"
        }
      ],
      "source": [
        "df_train = create_dataframe_metadata(train_df, 0, 90, label_encoder=label_encoder)\n",
        "df_train"
      ]
    },
    {
      "cell_type": "code",
      "execution_count": 25,
      "metadata": {
        "execution": {
          "iopub.execute_input": "2024-12-12T13:25:52.987993Z",
          "iopub.status.busy": "2024-12-12T13:25:52.987706Z",
          "iopub.status.idle": "2024-12-12T13:25:53.011922Z",
          "shell.execute_reply": "2024-12-12T13:25:53.011204Z",
          "shell.execute_reply.started": "2024-12-12T13:25:52.987967Z"
        },
        "id": "_NU3U-4d403M",
        "trusted": true
      },
      "outputs": [],
      "source": [
        "decode_label = dict()\n",
        "for index, row in df_train.iterrows():\n",
        "    decode_label.update({row['tag']: row['origin_tag']})\n",
        "encode_label = {v:k for k,v in decode_label.items()}"
      ]
    },
    {
      "cell_type": "code",
      "execution_count": 26,
      "metadata": {
        "colab": {
          "base_uri": "https://localhost:8080/",
          "height": 0
        },
        "execution": {
          "iopub.execute_input": "2024-12-12T13:25:53.013176Z",
          "iopub.status.busy": "2024-12-12T13:25:53.012856Z",
          "iopub.status.idle": "2024-12-12T13:25:53.034484Z",
          "shell.execute_reply": "2024-12-12T13:25:53.033619Z",
          "shell.execute_reply.started": "2024-12-12T13:25:53.013137Z"
        },
        "id": "Qy5TMMw8403M",
        "outputId": "44d7e9da-c7cd-42d0-948a-2e0698f428c5",
        "trusted": true
      },
      "outputs": [
        {
          "data": {
            "application/vnd.google.colaboratory.intrinsic+json": {
              "summary": "{\n  \"name\": \"df_test\",\n  \"rows\": 224,\n  \"fields\": [\n    {\n      \"column\": \"video_name\",\n      \"properties\": {\n        \"dtype\": \"string\",\n        \"num_unique_values\": 224,\n        \"samples\": [\n          \"v_Punch_g03_c01.avi\",\n          \"v_CricketShot_g01_c02.avi\",\n          \"v_CricketShot_g05_c07.avi\"\n        ],\n        \"semantic_type\": \"\",\n        \"description\": \"\"\n      }\n    },\n    {\n      \"column\": \"tag\",\n      \"properties\": {\n        \"dtype\": \"number\",\n        \"std\": 1,\n        \"min\": 0,\n        \"max\": 4,\n        \"num_unique_values\": 5,\n        \"samples\": [\n          1,\n          4,\n          0\n        ],\n        \"semantic_type\": \"\",\n        \"description\": \"\"\n      }\n    },\n    {\n      \"column\": \"origin_tag\",\n      \"properties\": {\n        \"dtype\": \"category\",\n        \"num_unique_values\": 5,\n        \"samples\": [\n          \"PlayingCello\",\n          \"TennisSwing\",\n          \"CricketShot\"\n        ],\n        \"semantic_type\": \"\",\n        \"description\": \"\"\n      }\n    }\n  ]\n}",
              "type": "dataframe",
              "variable_name": "df_test"
            },
            "text/html": [
              "\n",
              "  <div id=\"df-047e403d-a2e2-488b-9339-32d970f21b0a\" class=\"colab-df-container\">\n",
              "    <div>\n",
              "<style scoped>\n",
              "    .dataframe tbody tr th:only-of-type {\n",
              "        vertical-align: middle;\n",
              "    }\n",
              "\n",
              "    .dataframe tbody tr th {\n",
              "        vertical-align: top;\n",
              "    }\n",
              "\n",
              "    .dataframe thead th {\n",
              "        text-align: right;\n",
              "    }\n",
              "</style>\n",
              "<table border=\"1\" class=\"dataframe\">\n",
              "  <thead>\n",
              "    <tr style=\"text-align: right;\">\n",
              "      <th></th>\n",
              "      <th>video_name</th>\n",
              "      <th>tag</th>\n",
              "      <th>origin_tag</th>\n",
              "    </tr>\n",
              "  </thead>\n",
              "  <tbody>\n",
              "    <tr>\n",
              "      <th>0</th>\n",
              "      <td>v_Punch_g01_c01.avi</td>\n",
              "      <td>2</td>\n",
              "      <td>Punch</td>\n",
              "    </tr>\n",
              "    <tr>\n",
              "      <th>1</th>\n",
              "      <td>v_Punch_g01_c02.avi</td>\n",
              "      <td>2</td>\n",
              "      <td>Punch</td>\n",
              "    </tr>\n",
              "    <tr>\n",
              "      <th>2</th>\n",
              "      <td>v_Punch_g01_c03.avi</td>\n",
              "      <td>2</td>\n",
              "      <td>Punch</td>\n",
              "    </tr>\n",
              "    <tr>\n",
              "      <th>3</th>\n",
              "      <td>v_Punch_g01_c04.avi</td>\n",
              "      <td>2</td>\n",
              "      <td>Punch</td>\n",
              "    </tr>\n",
              "    <tr>\n",
              "      <th>4</th>\n",
              "      <td>v_Punch_g01_c05.avi</td>\n",
              "      <td>2</td>\n",
              "      <td>Punch</td>\n",
              "    </tr>\n",
              "    <tr>\n",
              "      <th>...</th>\n",
              "      <td>...</td>\n",
              "      <td>...</td>\n",
              "      <td>...</td>\n",
              "    </tr>\n",
              "    <tr>\n",
              "      <th>219</th>\n",
              "      <td>v_TennisSwing_g07_c03.avi</td>\n",
              "      <td>4</td>\n",
              "      <td>TennisSwing</td>\n",
              "    </tr>\n",
              "    <tr>\n",
              "      <th>220</th>\n",
              "      <td>v_TennisSwing_g07_c04.avi</td>\n",
              "      <td>4</td>\n",
              "      <td>TennisSwing</td>\n",
              "    </tr>\n",
              "    <tr>\n",
              "      <th>221</th>\n",
              "      <td>v_TennisSwing_g07_c05.avi</td>\n",
              "      <td>4</td>\n",
              "      <td>TennisSwing</td>\n",
              "    </tr>\n",
              "    <tr>\n",
              "      <th>222</th>\n",
              "      <td>v_TennisSwing_g07_c06.avi</td>\n",
              "      <td>4</td>\n",
              "      <td>TennisSwing</td>\n",
              "    </tr>\n",
              "    <tr>\n",
              "      <th>223</th>\n",
              "      <td>v_TennisSwing_g07_c07.avi</td>\n",
              "      <td>4</td>\n",
              "      <td>TennisSwing</td>\n",
              "    </tr>\n",
              "  </tbody>\n",
              "</table>\n",
              "<p>224 rows × 3 columns</p>\n",
              "</div>\n",
              "    <div class=\"colab-df-buttons\">\n",
              "\n",
              "  <div class=\"colab-df-container\">\n",
              "    <button class=\"colab-df-convert\" onclick=\"convertToInteractive('df-047e403d-a2e2-488b-9339-32d970f21b0a')\"\n",
              "            title=\"Convert this dataframe to an interactive table.\"\n",
              "            style=\"display:none;\">\n",
              "\n",
              "  <svg xmlns=\"http://www.w3.org/2000/svg\" height=\"24px\" viewBox=\"0 -960 960 960\">\n",
              "    <path d=\"M120-120v-720h720v720H120Zm60-500h600v-160H180v160Zm220 220h160v-160H400v160Zm0 220h160v-160H400v160ZM180-400h160v-160H180v160Zm440 0h160v-160H620v160ZM180-180h160v-160H180v160Zm440 0h160v-160H620v160Z\"/>\n",
              "  </svg>\n",
              "    </button>\n",
              "\n",
              "  <style>\n",
              "    .colab-df-container {\n",
              "      display:flex;\n",
              "      gap: 12px;\n",
              "    }\n",
              "\n",
              "    .colab-df-convert {\n",
              "      background-color: #E8F0FE;\n",
              "      border: none;\n",
              "      border-radius: 50%;\n",
              "      cursor: pointer;\n",
              "      display: none;\n",
              "      fill: #1967D2;\n",
              "      height: 32px;\n",
              "      padding: 0 0 0 0;\n",
              "      width: 32px;\n",
              "    }\n",
              "\n",
              "    .colab-df-convert:hover {\n",
              "      background-color: #E2EBFA;\n",
              "      box-shadow: 0px 1px 2px rgba(60, 64, 67, 0.3), 0px 1px 3px 1px rgba(60, 64, 67, 0.15);\n",
              "      fill: #174EA6;\n",
              "    }\n",
              "\n",
              "    .colab-df-buttons div {\n",
              "      margin-bottom: 4px;\n",
              "    }\n",
              "\n",
              "    [theme=dark] .colab-df-convert {\n",
              "      background-color: #3B4455;\n",
              "      fill: #D2E3FC;\n",
              "    }\n",
              "\n",
              "    [theme=dark] .colab-df-convert:hover {\n",
              "      background-color: #434B5C;\n",
              "      box-shadow: 0px 1px 3px 1px rgba(0, 0, 0, 0.15);\n",
              "      filter: drop-shadow(0px 1px 2px rgba(0, 0, 0, 0.3));\n",
              "      fill: #FFFFFF;\n",
              "    }\n",
              "  </style>\n",
              "\n",
              "    <script>\n",
              "      const buttonEl =\n",
              "        document.querySelector('#df-047e403d-a2e2-488b-9339-32d970f21b0a button.colab-df-convert');\n",
              "      buttonEl.style.display =\n",
              "        google.colab.kernel.accessAllowed ? 'block' : 'none';\n",
              "\n",
              "      async function convertToInteractive(key) {\n",
              "        const element = document.querySelector('#df-047e403d-a2e2-488b-9339-32d970f21b0a');\n",
              "        const dataTable =\n",
              "          await google.colab.kernel.invokeFunction('convertToInteractive',\n",
              "                                                    [key], {});\n",
              "        if (!dataTable) return;\n",
              "\n",
              "        const docLinkHtml = 'Like what you see? Visit the ' +\n",
              "          '<a target=\"_blank\" href=https://colab.research.google.com/notebooks/data_table.ipynb>data table notebook</a>'\n",
              "          + ' to learn more about interactive tables.';\n",
              "        element.innerHTML = '';\n",
              "        dataTable['output_type'] = 'display_data';\n",
              "        await google.colab.output.renderOutput(dataTable, element);\n",
              "        const docLink = document.createElement('div');\n",
              "        docLink.innerHTML = docLinkHtml;\n",
              "        element.appendChild(docLink);\n",
              "      }\n",
              "    </script>\n",
              "  </div>\n",
              "\n",
              "\n",
              "<div id=\"df-f56e6729-1434-49eb-8b96-87c12485121b\">\n",
              "  <button class=\"colab-df-quickchart\" onclick=\"quickchart('df-f56e6729-1434-49eb-8b96-87c12485121b')\"\n",
              "            title=\"Suggest charts\"\n",
              "            style=\"display:none;\">\n",
              "\n",
              "<svg xmlns=\"http://www.w3.org/2000/svg\" height=\"24px\"viewBox=\"0 0 24 24\"\n",
              "     width=\"24px\">\n",
              "    <g>\n",
              "        <path d=\"M19 3H5c-1.1 0-2 .9-2 2v14c0 1.1.9 2 2 2h14c1.1 0 2-.9 2-2V5c0-1.1-.9-2-2-2zM9 17H7v-7h2v7zm4 0h-2V7h2v10zm4 0h-2v-4h2v4z\"/>\n",
              "    </g>\n",
              "</svg>\n",
              "  </button>\n",
              "\n",
              "<style>\n",
              "  .colab-df-quickchart {\n",
              "      --bg-color: #E8F0FE;\n",
              "      --fill-color: #1967D2;\n",
              "      --hover-bg-color: #E2EBFA;\n",
              "      --hover-fill-color: #174EA6;\n",
              "      --disabled-fill-color: #AAA;\n",
              "      --disabled-bg-color: #DDD;\n",
              "  }\n",
              "\n",
              "  [theme=dark] .colab-df-quickchart {\n",
              "      --bg-color: #3B4455;\n",
              "      --fill-color: #D2E3FC;\n",
              "      --hover-bg-color: #434B5C;\n",
              "      --hover-fill-color: #FFFFFF;\n",
              "      --disabled-bg-color: #3B4455;\n",
              "      --disabled-fill-color: #666;\n",
              "  }\n",
              "\n",
              "  .colab-df-quickchart {\n",
              "    background-color: var(--bg-color);\n",
              "    border: none;\n",
              "    border-radius: 50%;\n",
              "    cursor: pointer;\n",
              "    display: none;\n",
              "    fill: var(--fill-color);\n",
              "    height: 32px;\n",
              "    padding: 0;\n",
              "    width: 32px;\n",
              "  }\n",
              "\n",
              "  .colab-df-quickchart:hover {\n",
              "    background-color: var(--hover-bg-color);\n",
              "    box-shadow: 0 1px 2px rgba(60, 64, 67, 0.3), 0 1px 3px 1px rgba(60, 64, 67, 0.15);\n",
              "    fill: var(--button-hover-fill-color);\n",
              "  }\n",
              "\n",
              "  .colab-df-quickchart-complete:disabled,\n",
              "  .colab-df-quickchart-complete:disabled:hover {\n",
              "    background-color: var(--disabled-bg-color);\n",
              "    fill: var(--disabled-fill-color);\n",
              "    box-shadow: none;\n",
              "  }\n",
              "\n",
              "  .colab-df-spinner {\n",
              "    border: 2px solid var(--fill-color);\n",
              "    border-color: transparent;\n",
              "    border-bottom-color: var(--fill-color);\n",
              "    animation:\n",
              "      spin 1s steps(1) infinite;\n",
              "  }\n",
              "\n",
              "  @keyframes spin {\n",
              "    0% {\n",
              "      border-color: transparent;\n",
              "      border-bottom-color: var(--fill-color);\n",
              "      border-left-color: var(--fill-color);\n",
              "    }\n",
              "    20% {\n",
              "      border-color: transparent;\n",
              "      border-left-color: var(--fill-color);\n",
              "      border-top-color: var(--fill-color);\n",
              "    }\n",
              "    30% {\n",
              "      border-color: transparent;\n",
              "      border-left-color: var(--fill-color);\n",
              "      border-top-color: var(--fill-color);\n",
              "      border-right-color: var(--fill-color);\n",
              "    }\n",
              "    40% {\n",
              "      border-color: transparent;\n",
              "      border-right-color: var(--fill-color);\n",
              "      border-top-color: var(--fill-color);\n",
              "    }\n",
              "    60% {\n",
              "      border-color: transparent;\n",
              "      border-right-color: var(--fill-color);\n",
              "    }\n",
              "    80% {\n",
              "      border-color: transparent;\n",
              "      border-right-color: var(--fill-color);\n",
              "      border-bottom-color: var(--fill-color);\n",
              "    }\n",
              "    90% {\n",
              "      border-color: transparent;\n",
              "      border-bottom-color: var(--fill-color);\n",
              "    }\n",
              "  }\n",
              "</style>\n",
              "\n",
              "  <script>\n",
              "    async function quickchart(key) {\n",
              "      const quickchartButtonEl =\n",
              "        document.querySelector('#' + key + ' button');\n",
              "      quickchartButtonEl.disabled = true;  // To prevent multiple clicks.\n",
              "      quickchartButtonEl.classList.add('colab-df-spinner');\n",
              "      try {\n",
              "        const charts = await google.colab.kernel.invokeFunction(\n",
              "            'suggestCharts', [key], {});\n",
              "      } catch (error) {\n",
              "        console.error('Error during call to suggestCharts:', error);\n",
              "      }\n",
              "      quickchartButtonEl.classList.remove('colab-df-spinner');\n",
              "      quickchartButtonEl.classList.add('colab-df-quickchart-complete');\n",
              "    }\n",
              "    (() => {\n",
              "      let quickchartButtonEl =\n",
              "        document.querySelector('#df-f56e6729-1434-49eb-8b96-87c12485121b button');\n",
              "      quickchartButtonEl.style.display =\n",
              "        google.colab.kernel.accessAllowed ? 'block' : 'none';\n",
              "    })();\n",
              "  </script>\n",
              "</div>\n",
              "\n",
              "  <div id=\"id_14d6ffe6-ca40-420f-843f-3393c77153a7\">\n",
              "    <style>\n",
              "      .colab-df-generate {\n",
              "        background-color: #E8F0FE;\n",
              "        border: none;\n",
              "        border-radius: 50%;\n",
              "        cursor: pointer;\n",
              "        display: none;\n",
              "        fill: #1967D2;\n",
              "        height: 32px;\n",
              "        padding: 0 0 0 0;\n",
              "        width: 32px;\n",
              "      }\n",
              "\n",
              "      .colab-df-generate:hover {\n",
              "        background-color: #E2EBFA;\n",
              "        box-shadow: 0px 1px 2px rgba(60, 64, 67, 0.3), 0px 1px 3px 1px rgba(60, 64, 67, 0.15);\n",
              "        fill: #174EA6;\n",
              "      }\n",
              "\n",
              "      [theme=dark] .colab-df-generate {\n",
              "        background-color: #3B4455;\n",
              "        fill: #D2E3FC;\n",
              "      }\n",
              "\n",
              "      [theme=dark] .colab-df-generate:hover {\n",
              "        background-color: #434B5C;\n",
              "        box-shadow: 0px 1px 3px 1px rgba(0, 0, 0, 0.15);\n",
              "        filter: drop-shadow(0px 1px 2px rgba(0, 0, 0, 0.3));\n",
              "        fill: #FFFFFF;\n",
              "      }\n",
              "    </style>\n",
              "    <button class=\"colab-df-generate\" onclick=\"generateWithVariable('df_test')\"\n",
              "            title=\"Generate code using this dataframe.\"\n",
              "            style=\"display:none;\">\n",
              "\n",
              "  <svg xmlns=\"http://www.w3.org/2000/svg\" height=\"24px\"viewBox=\"0 0 24 24\"\n",
              "       width=\"24px\">\n",
              "    <path d=\"M7,19H8.4L18.45,9,17,7.55,7,17.6ZM5,21V16.75L18.45,3.32a2,2,0,0,1,2.83,0l1.4,1.43a1.91,1.91,0,0,1,.58,1.4,1.91,1.91,0,0,1-.58,1.4L9.25,21ZM18.45,9,17,7.55Zm-12,3A5.31,5.31,0,0,0,4.9,8.1,5.31,5.31,0,0,0,1,6.5,5.31,5.31,0,0,0,4.9,4.9,5.31,5.31,0,0,0,6.5,1,5.31,5.31,0,0,0,8.1,4.9,5.31,5.31,0,0,0,12,6.5,5.46,5.46,0,0,0,6.5,12Z\"/>\n",
              "  </svg>\n",
              "    </button>\n",
              "    <script>\n",
              "      (() => {\n",
              "      const buttonEl =\n",
              "        document.querySelector('#id_14d6ffe6-ca40-420f-843f-3393c77153a7 button.colab-df-generate');\n",
              "      buttonEl.style.display =\n",
              "        google.colab.kernel.accessAllowed ? 'block' : 'none';\n",
              "\n",
              "      buttonEl.onclick = () => {\n",
              "        google.colab.notebook.generateWithVariable('df_test');\n",
              "      }\n",
              "      })();\n",
              "    </script>\n",
              "  </div>\n",
              "\n",
              "    </div>\n",
              "  </div>\n"
            ],
            "text/plain": [
              "                    video_name  tag   origin_tag\n",
              "0          v_Punch_g01_c01.avi    2        Punch\n",
              "1          v_Punch_g01_c02.avi    2        Punch\n",
              "2          v_Punch_g01_c03.avi    2        Punch\n",
              "3          v_Punch_g01_c04.avi    2        Punch\n",
              "4          v_Punch_g01_c05.avi    2        Punch\n",
              "..                         ...  ...          ...\n",
              "219  v_TennisSwing_g07_c03.avi    4  TennisSwing\n",
              "220  v_TennisSwing_g07_c04.avi    4  TennisSwing\n",
              "221  v_TennisSwing_g07_c05.avi    4  TennisSwing\n",
              "222  v_TennisSwing_g07_c06.avi    4  TennisSwing\n",
              "223  v_TennisSwing_g07_c07.avi    4  TennisSwing\n",
              "\n",
              "[224 rows x 3 columns]"
            ]
          },
          "execution_count": 26,
          "metadata": {},
          "output_type": "execute_result"
        }
      ],
      "source": [
        "df_val = create_dataframe_metadata(train_df, 90, 110, encode_label=encode_label)\n",
        "df_test = create_dataframe_metadata(test_df, 0, 50, encode_label=encode_label)\n",
        "df_test"
      ]
    },
    {
      "cell_type": "markdown",
      "metadata": {
        "id": "RwnTT3Er403M"
      },
      "source": [
        "#### Augumentation dataset"
      ]
    },
    {
      "cell_type": "code",
      "execution_count": 27,
      "metadata": {
        "execution": {
          "iopub.execute_input": "2024-12-12T13:25:53.036464Z",
          "iopub.status.busy": "2024-12-12T13:25:53.036211Z",
          "iopub.status.idle": "2024-12-12T13:25:53.049145Z",
          "shell.execute_reply": "2024-12-12T13:25:53.048281Z",
          "shell.execute_reply.started": "2024-12-12T13:25:53.036440Z"
        },
        "id": "z7-exjGd403N",
        "trusted": true
      },
      "outputs": [],
      "source": [
        "def augmentation_picture(frame):\n",
        "    transform_a_frame = transforms.Compose([\n",
        "        # transforms.RandomRotation(degrees=(90,90)), # xoay ảnh 90 90\n",
        "        transforms.GaussianBlur(kernel_size=11, sigma=1), # làm mờ ảnh nhẹ với vùng ảnh là 11x11\n",
        "        transforms.RandomErasing(scale=(0.01, 0.1), ratio=(1, 1)) # scale là phạm vi tỷ lệ (min, max) cho vùng xóa so với ảnh ban đầu, ratio là tỉ lệ chiều rộng và cao\n",
        "    ])\n",
        "    result = transform_a_frame(frame)\n",
        "    return result\n",
        "\n",
        "def augmentation_video(frames):\n",
        "    new_frames = []\n",
        "    for frame in frames:\n",
        "        new_frame = augmentation_picture(frame)\n",
        "        new_frames.append(new_frame)\n",
        "    return torch.stack(new_frames,dim=0)"
      ]
    },
    {
      "cell_type": "markdown",
      "metadata": {
        "id": "k9Uf3Pwi403N"
      },
      "source": [
        "#### Create dataset"
      ]
    },
    {
      "cell_type": "code",
      "execution_count": 28,
      "metadata": {
        "execution": {
          "iopub.execute_input": "2024-12-12T13:25:53.050407Z",
          "iopub.status.busy": "2024-12-12T13:25:53.050161Z",
          "iopub.status.idle": "2024-12-12T13:25:53.061676Z",
          "shell.execute_reply": "2024-12-12T13:25:53.060863Z",
          "shell.execute_reply.started": "2024-12-12T13:25:53.050384Z"
        },
        "id": "0W9oAkkr403N",
        "trusted": true
      },
      "outputs": [],
      "source": [
        "class VideoDataset(Dataset):\n",
        "    def __init__(self, video_paths, img_size=(120,120), all_labels=[], is_train=True):\n",
        "        self.video_paths = video_paths\n",
        "        self.img_size = img_size\n",
        "        self.all_labels = all_labels\n",
        "        self.new_labels = []\n",
        "        self.is_train = is_train\n",
        "        self.data = self.load_data()\n",
        "\n",
        "    def __len__(self):\n",
        "        return len(self.data)\n",
        "\n",
        "    def __getitem__(self, index):\n",
        "        return self.data[index], self.new_labels[index]\n",
        "\n",
        "    def load_data(self):\n",
        "        data = []\n",
        "\n",
        "        for index, path in tqdm(enumerate(self.video_paths)):\n",
        "            frames = load_video(path, size=self.img_size)\n",
        "            self.new_labels.append(self.all_labels[index])\n",
        "            data.append(frames)\n",
        "\n",
        "            if self.is_train:\n",
        "                new_frames = augmentation_video(frames)\n",
        "                data.append(new_frames)\n",
        "                self.new_labels.append(self.all_labels[index])\n",
        "        return pad_sequence(data, batch_first=True, padding_value=0)\n",
        "\n",
        "\n"
      ]
    },
    {
      "cell_type": "code",
      "execution_count": 29,
      "metadata": {
        "execution": {
          "iopub.execute_input": "2024-12-12T13:25:53.063385Z",
          "iopub.status.busy": "2024-12-12T13:25:53.063137Z",
          "iopub.status.idle": "2024-12-12T13:25:53.076656Z",
          "shell.execute_reply": "2024-12-12T13:25:53.075864Z",
          "shell.execute_reply.started": "2024-12-12T13:25:53.063362Z"
        },
        "id": "EPhAJgrj403N",
        "trusted": true
      },
      "outputs": [],
      "source": [
        "all_label_train = list(df_train['tag'])\n",
        "all_label_val = list(df_val['tag'])"
      ]
    },
    {
      "cell_type": "code",
      "execution_count": 30,
      "metadata": {
        "execution": {
          "iopub.execute_input": "2024-12-12T13:25:53.412815Z",
          "iopub.status.busy": "2024-12-12T13:25:53.412456Z",
          "iopub.status.idle": "2024-12-12T13:25:53.418987Z",
          "shell.execute_reply": "2024-12-12T13:25:53.417868Z",
          "shell.execute_reply.started": "2024-12-12T13:25:53.412766Z"
        },
        "id": "J_DIcs4A403N",
        "trusted": true
      },
      "outputs": [],
      "source": [
        "train_paths = [os.path.join(folder_path_train, i) for i in df_train['video_name']]\n",
        "test_paths = [os.path.join(folder_path_test, i) for i in df_test['video_name']]\n",
        "val_paths = [os.path.join(folder_path_train, i) for i in df_val['video_name']]"
      ]
    },
    {
      "cell_type": "code",
      "execution_count": 31,
      "metadata": {
        "colab": {
          "base_uri": "https://localhost:8080/"
        },
        "execution": {
          "iopub.execute_input": "2024-12-12T13:25:53.807260Z",
          "iopub.status.busy": "2024-12-12T13:25:53.806930Z",
          "iopub.status.idle": "2024-12-12T13:25:54.206848Z",
          "shell.execute_reply": "2024-12-12T13:25:54.205894Z",
          "shell.execute_reply.started": "2024-12-12T13:25:53.807232Z"
        },
        "id": "18m_PC9L403O",
        "outputId": "0809d16f-a315-411a-d19b-bcf07babcb08",
        "trusted": true
      },
      "outputs": [
        {
          "data": {
            "text/plain": [
              "torch.Size([3, 480, 480])"
            ]
          },
          "execution_count": 31,
          "metadata": {},
          "output_type": "execute_result"
        }
      ],
      "source": [
        "load_video(train_paths[10])[0].shape # channel, height, width"
      ]
    },
    {
      "cell_type": "code",
      "execution_count": 32,
      "metadata": {
        "colab": {
          "base_uri": "https://localhost:8080/",
          "height": 470
        },
        "execution": {
          "iopub.execute_input": "2024-12-12T13:25:54.450651Z",
          "iopub.status.busy": "2024-12-12T13:25:54.450332Z",
          "iopub.status.idle": "2024-12-12T13:25:54.997295Z",
          "shell.execute_reply": "2024-12-12T13:25:54.996484Z",
          "shell.execute_reply.started": "2024-12-12T13:25:54.450621Z"
        },
        "id": "D1WfYZPD403O",
        "outputId": "76be3bd3-bdb8-428f-d3b7-ebfddcd352f8",
        "trusted": true
      },
      "outputs": [
        {
          "name": "stdout",
          "output_type": "stream",
          "text": [
            "100\n"
          ]
        },
        {
          "data": {
            "text/plain": [
              "<matplotlib.image.AxesImage at 0x7af2475e0250>"
            ]
          },
          "execution_count": 32,
          "metadata": {},
          "output_type": "execute_result"
        },
        {
          "data": {
            "image/png": "[encoded data removed]",
            "text/plain": [
              "<Figure size 640x480 with 1 Axes>"
            ]
          },
          "metadata": {},
          "output_type": "display_data"
        }
      ],
      "source": [
        "vid0_frame = load_video(val_paths[10])\n",
        "print(len(vid0_frame))\n",
        "img_plot_test = vid0_frame[0].permute(1,2,0).numpy() # chuyển về height, width, channel để plot ảnh (224,224,3)\n",
        "plt.imshow(img_plot_test)"
      ]
    },
    {
      "cell_type": "code",
      "execution_count": 33,
      "metadata": {
        "colab": {
          "base_uri": "https://localhost:8080/",
          "height": 307
        },
        "execution": {
          "iopub.execute_input": "2024-12-12T13:25:54.999376Z",
          "iopub.status.busy": "2024-12-12T13:25:54.998995Z",
          "iopub.status.idle": "2024-12-12T13:25:55.663417Z",
          "shell.execute_reply": "2024-12-12T13:25:55.662545Z",
          "shell.execute_reply.started": "2024-12-12T13:25:54.999334Z"
        },
        "id": "vDbOGpik403O",
        "outputId": "cca922e3-aecb-42d5-c242-fd4c302a3e46",
        "trusted": true
      },
      "outputs": [
        {
          "data": {
            "text/plain": [
              "<matplotlib.image.AxesImage at 0x7af24592da80>"
            ]
          },
          "execution_count": 33,
          "metadata": {},
          "output_type": "execute_result"
        },
        {
          "data": {
            "image/png": "[encoded data removed]",
            "text/plain": [
              "<Figure size 640x480 with 2 Axes>"
            ]
          },
          "metadata": {},
          "output_type": "display_data"
        }
      ],
      "source": [
        "test_augment_path = train_paths[20]\n",
        "frames_before = load_video(test_augment_path, size=(120,120))\n",
        "frames_after = augmentation_video(frames_before)\n",
        "\n",
        "img_after_augment = frames_after[0].permute(1,2,0).numpy()\n",
        "img_before_augment = frames_before[0].permute(1,2,0).numpy()\n",
        "fig_aug, ax_aug = plt.subplots(1,2)\n",
        "ax_aug[0].imshow(img_before_augment)\n",
        "ax_aug[1].imshow(img_after_augment)"
      ]
    },
    {
      "cell_type": "code",
      "execution_count": 34,
      "metadata": {
        "execution": {
          "iopub.execute_input": "2024-12-12T13:25:55.665197Z",
          "iopub.status.busy": "2024-12-12T13:25:55.664948Z",
          "iopub.status.idle": "2024-12-12T13:27:52.261965Z",
          "shell.execute_reply": "2024-12-12T13:27:52.260896Z",
          "shell.execute_reply.started": "2024-12-12T13:25:55.665172Z"
        },
        "id": "aj4-6kR5403O",
        "trusted": true
      },
      "outputs": [],
      "source": [
        "# train_dataset = VideoDataset(train_paths, all_labels= all_label_train)\n",
        "# val_dataset = VideoDataset(val_paths, all_labels= all_label_val)\n",
        "# test_dataset = VideoDataset(test_paths, all_labels= list(df_test['tag']), is_train=False)"
      ]
    },
    {
      "cell_type": "code",
      "execution_count": 35,
      "metadata": {
        "execution": {
          "iopub.execute_input": "2024-12-12T13:27:52.264839Z",
          "iopub.status.busy": "2024-12-12T13:27:52.264455Z",
          "iopub.status.idle": "2024-12-12T13:27:52.491878Z",
          "shell.execute_reply": "2024-12-12T13:27:52.490876Z",
          "shell.execute_reply.started": "2024-12-12T13:27:52.264777Z"
        },
        "id": "d6rdEt5N403O",
        "trusted": true
      },
      "outputs": [],
      "source": [
        "# frames, label = train_dataset.__getitem__(100)\n",
        "# print(decode_label[label])\n",
        "# plt.imshow(frames[0].permute(1,2,0).numpy())"
      ]
    },
    {
      "cell_type": "markdown",
      "metadata": {
        "id": "2iWZDBqD5FRJ"
      },
      "source": [
        "#### save & load dataset"
      ]
    },
    {
      "cell_type": "code",
      "execution_count": 36,
      "metadata": {
        "execution": {
          "iopub.execute_input": "2024-12-12T13:27:52.494624Z",
          "iopub.status.busy": "2024-12-12T13:27:52.494261Z",
          "iopub.status.idle": "2024-12-12T13:27:52.498948Z",
          "shell.execute_reply": "2024-12-12T13:27:52.497841Z",
          "shell.execute_reply.started": "2024-12-12T13:27:52.494585Z"
        },
        "id": "4GTeXWf7403O",
        "trusted": true
      },
      "outputs": [],
      "source": [
        "import pickle\n",
        "\n",
        "def save_dataset(dataset, path):\n",
        "    with open(path, 'wb') as f:\n",
        "        pickle.dump(dataset, f)\n",
        "\n",
        "def load_dataset(path):\n",
        "    with open(path, 'rb') as f:\n",
        "        data = pickle.load(f)\n",
        "    return data"
      ]
    },
    {
      "cell_type": "code",
      "execution_count": null,
      "metadata": {
        "execution": {
          "iopub.execute_input": "2024-12-12T13:27:52.500429Z",
          "iopub.status.busy": "2024-12-12T13:27:52.500122Z",
          "iopub.status.idle": "2024-12-12T13:27:52.512862Z",
          "shell.execute_reply": "2024-12-12T13:27:52.512095Z",
          "shell.execute_reply.started": "2024-12-12T13:27:52.500396Z"
        },
        "id": "nLP1gDMN403O",
        "trusted": true
      },
      "outputs": [],
      "source": [
        "# save_dataset(train_dataset, \"./dataset/train_dataset.pickle\")\n",
        "# save_dataset(val_dataset, \"./dataset/val_dataset.pickle\")\n",
        "# save_dataset(test_dataset, \"./dataset/test_dataset.pickle\")"
      ]
    },
    {
      "cell_type": "code",
      "execution_count": 37,
      "metadata": {
        "execution": {
          "iopub.execute_input": "2024-12-12T13:27:52.514193Z",
          "iopub.status.busy": "2024-12-12T13:27:52.513903Z",
          "iopub.status.idle": "2024-12-12T13:27:52.526765Z",
          "shell.execute_reply": "2024-12-12T13:27:52.525866Z",
          "shell.execute_reply.started": "2024-12-12T13:27:52.514163Z"
        },
        "id": "aD15lbvm403P",
        "trusted": true
      },
      "outputs": [],
      "source": [
        "train_dataset = load_dataset(\"./dataset/train_dataset.pickle\")\n",
        "val_dataset = load_dataset(\"./dataset/val_dataset.pickle\")\n",
        "test_dataset = load_dataset(\"./dataset/test_dataset.pickle\")"
      ]
    },
    {
      "cell_type": "code",
      "execution_count": 38,
      "metadata": {
        "execution": {
          "iopub.execute_input": "2024-12-12T13:27:52.528091Z",
          "iopub.status.busy": "2024-12-12T13:27:52.527835Z",
          "iopub.status.idle": "2024-12-12T13:27:52.538755Z",
          "shell.execute_reply": "2024-12-12T13:27:52.537963Z",
          "shell.execute_reply.started": "2024-12-12T13:27:52.528067Z"
        },
        "id": "kqK-9C4S403P",
        "trusted": true
      },
      "outputs": [],
      "source": [
        "train_dataloader = DataLoader(train_dataset, batch_size=32, shuffle=True)\n",
        "val_dataloader = DataLoader(val_dataset, batch_size=32, shuffle=True)\n",
        "test_dataloader = DataLoader(test_dataset, batch_size=32, shuffle=False)"
      ]
    },
    {
      "cell_type": "markdown",
      "metadata": {
        "id": "D2Etk1QR403P"
      },
      "source": [
        "### Model"
      ]
    },
    {
      "cell_type": "markdown",
      "metadata": {
        "id": "FJNEyVRu5YSQ"
      },
      "source": [
        "#### get pretrained"
      ]
    },
    {
      "cell_type": "code",
      "execution_count": 39,
      "metadata": {
        "execution": {
          "iopub.execute_input": "2024-12-12T13:27:52.540335Z",
          "iopub.status.busy": "2024-12-12T13:27:52.539976Z",
          "iopub.status.idle": "2024-12-12T13:27:52.552399Z",
          "shell.execute_reply": "2024-12-12T13:27:52.551556Z",
          "shell.execute_reply.started": "2024-12-12T13:27:52.540299Z"
        },
        "id": "rqFVPO_WqIuM",
        "trusted": true
      },
      "outputs": [],
      "source": [
        "def get_cnn_pretrained(model:str = 'resnet50' or 'resnet101' or 'resnet152'):\n",
        "    if model=='resnet50':\n",
        "      CNN_pretrained = torchvision.models.resnet50(pretrained = True)\n",
        "    elif model=='resnet101':\n",
        "      CNN_pretrained = torchvision.models.resnet101(pretrained = True)\n",
        "    else:\n",
        "      CNN_pretrained = torchvision.models.resnet152(pretrained = True)\n",
        "    CNN_pretrained = torch.nn.Sequential(*list(CNN_pretrained.children())[:8])\n",
        "    return CNN_pretrained"
      ]
    },
    {
      "cell_type": "code",
      "execution_count": 40,
      "metadata": {
        "colab": {
          "base_uri": "https://localhost:8080/"
        },
        "execution": {
          "iopub.execute_input": "2024-12-12T13:27:52.553882Z",
          "iopub.status.busy": "2024-12-12T13:27:52.553542Z",
          "iopub.status.idle": "2024-12-12T13:27:52.574280Z",
          "shell.execute_reply": "2024-12-12T13:27:52.573049Z",
          "shell.execute_reply.started": "2024-12-12T13:27:52.553844Z"
        },
        "id": "ODTN-mOK403Q",
        "outputId": "848dbc51-cfde-4fc8-aa68-ff3aebb0870e",
        "trusted": true
      },
      "outputs": [
        {
          "name": "stdout",
          "output_type": "stream",
          "text": [
            "Punch\n"
          ]
        },
        {
          "data": {
            "text/plain": [
              "torch.Size([32, 100, 3, 120, 120])"
            ]
          },
          "execution_count": 40,
          "metadata": {},
          "output_type": "execute_result"
        }
      ],
      "source": [
        "sample_frames, sample_label = next(iter(val_dataloader))\n",
        "print(decode_label[int(sample_label[0])])\n",
        "sample_frames.shape"
      ]
    },
    {
      "cell_type": "code",
      "execution_count": 41,
      "metadata": {
        "colab": {
          "base_uri": "https://localhost:8080/"
        },
        "collapsed": true,
        "execution": {
          "iopub.execute_input": "2024-12-12T13:27:52.577698Z",
          "iopub.status.busy": "2024-12-12T13:27:52.577443Z",
          "iopub.status.idle": "2024-12-12T13:27:57.746686Z",
          "shell.execute_reply": "2024-12-12T13:27:57.745276Z",
          "shell.execute_reply.started": "2024-12-12T13:27:52.577673Z"
        },
        "id": "-4cmw-Jj403P",
        "outputId": "a0d34701-c80e-4503-af36-dcdf3904d4c7",
        "trusted": true
      },
      "outputs": [
        {
          "name": "stderr",
          "output_type": "stream",
          "text": [
            "/usr/local/lib/python3.10/dist-packages/torchvision/models/_utils.py:208: UserWarning: The parameter 'pretrained' is deprecated since 0.13 and may be removed in the future, please use 'weights' instead.\n",
            "  warnings.warn(\n",
            "/usr/local/lib/python3.10/dist-packages/torchvision/models/_utils.py:223: UserWarning: Arguments other than a weight enum or `None` for 'weights' are deprecated since 0.13 and may be removed in the future. The current behavior is equivalent to passing `weights=ResNet50_Weights.IMAGENET1K_V1`. You can also use `weights=ResNet50_Weights.DEFAULT` to get the most up-to-date weights.\n",
            "  warnings.warn(msg)\n",
            "Downloading: \"https://download.pytorch.org/models/resnet50-0676ba61.pth\" to /root/.cache/torch/hub/checkpoints/resnet50-0676ba61.pth\n",
            "100%|██████████| 97.8M/97.8M [00:00<00:00, 133MB/s]\n",
            "/usr/local/lib/python3.10/dist-packages/torchvision/models/_utils.py:223: UserWarning: Arguments other than a weight enum or `None` for 'weights' are deprecated since 0.13 and may be removed in the future. The current behavior is equivalent to passing `weights=ResNet101_Weights.IMAGENET1K_V1`. You can also use `weights=ResNet101_Weights.DEFAULT` to get the most up-to-date weights.\n",
            "  warnings.warn(msg)\n",
            "Downloading: \"https://download.pytorch.org/models/resnet101-63fe2227.pth\" to /root/.cache/torch/hub/checkpoints/resnet101-63fe2227.pth\n",
            "100%|██████████| 171M/171M [00:01<00:00, 146MB/s]\n",
            "/usr/local/lib/python3.10/dist-packages/torchvision/models/_utils.py:223: UserWarning: Arguments other than a weight enum or `None` for 'weights' are deprecated since 0.13 and may be removed in the future. The current behavior is equivalent to passing `weights=ResNet152_Weights.IMAGENET1K_V1`. You can also use `weights=ResNet152_Weights.DEFAULT` to get the most up-to-date weights.\n",
            "  warnings.warn(msg)\n",
            "Downloading: \"https://download.pytorch.org/models/resnet152-394f9c45.pth\" to /root/.cache/torch/hub/checkpoints/resnet152-394f9c45.pth\n",
            "100%|██████████| 230M/230M [00:03<00:00, 62.6MB/s]\n"
          ]
        }
      ],
      "source": [
        "Resnet50 = get_cnn_pretrained('resnet50')\n",
        "Resnet101 = get_cnn_pretrained('resnet101')\n",
        "Resnet152 = get_cnn_pretrained('resnet152')"
      ]
    },
    {
      "cell_type": "code",
      "execution_count": 42,
      "metadata": {
        "colab": {
          "base_uri": "https://localhost:8080/"
        },
        "execution": {
          "iopub.execute_input": "2024-12-12T13:27:57.748412Z",
          "iopub.status.busy": "2024-12-12T13:27:57.748087Z",
          "iopub.status.idle": "2024-12-12T13:27:58.053404Z",
          "shell.execute_reply": "2024-12-12T13:27:58.052664Z",
          "shell.execute_reply.started": "2024-12-12T13:27:57.748375Z"
        },
        "id": "hXwgzNLh403P",
        "outputId": "612089a1-8886-45b5-8b01-a5109ba213de",
        "trusted": true
      },
      "outputs": [
        {
          "data": {
            "text/plain": [
              "torch.Size([32, 2048, 4, 4])"
            ]
          },
          "execution_count": 42,
          "metadata": {},
          "output_type": "execute_result"
        }
      ],
      "source": [
        "output_test = Resnet50(sample_frames[:,1].float())\n",
        "output_test.shape"
      ]
    },
    {
      "cell_type": "code",
      "execution_count": 43,
      "metadata": {
        "colab": {
          "base_uri": "https://localhost:8080/"
        },
        "execution": {
          "iopub.execute_input": "2024-12-12T13:27:58.055020Z",
          "iopub.status.busy": "2024-12-12T13:27:58.054727Z",
          "iopub.status.idle": "2024-12-12T13:27:58.684492Z",
          "shell.execute_reply": "2024-12-12T13:27:58.683609Z",
          "shell.execute_reply.started": "2024-12-12T13:27:58.054990Z"
        },
        "id": "l2nxXcn0qIuN",
        "outputId": "129ce130-f9e4-4bca-843a-6a418a0a5afc",
        "trusted": true
      },
      "outputs": [
        {
          "data": {
            "text/plain": [
              "torch.Size([32, 2048, 4, 4])"
            ]
          },
          "execution_count": 43,
          "metadata": {},
          "output_type": "execute_result"
        }
      ],
      "source": [
        "output_test = Resnet101(sample_frames[:,1].float())\n",
        "output_test.shape"
      ]
    },
    {
      "cell_type": "markdown",
      "metadata": {
        "id": "Ssdu0yDH403Q"
      },
      "source": [
        "#### CNN-RNN Model"
      ]
    },
    {
      "cell_type": "code",
      "execution_count": 48,
      "metadata": {
        "colab": {
          "base_uri": "https://localhost:8080/"
        },
        "execution": {
          "iopub.execute_input": "2024-12-12T13:27:58.685857Z",
          "iopub.status.busy": "2024-12-12T13:27:58.685486Z",
          "iopub.status.idle": "2024-12-12T13:27:58.744854Z",
          "shell.execute_reply": "2024-12-12T13:27:58.743740Z",
          "shell.execute_reply.started": "2024-12-12T13:27:58.685815Z"
        },
        "id": "gALJYjm5403Q",
        "outputId": "6c1ce281-6ea9-42a5-cce2-db4faad9ba0a",
        "trusted": true
      },
      "outputs": [
        {
          "data": {
            "text/plain": [
              "device(type='cuda')"
            ]
          },
          "execution_count": 48,
          "metadata": {},
          "output_type": "execute_result"
        }
      ],
      "source": [
        "device = torch.device(\"cuda\" if torch.cuda.is_available() else \"cpu\")\n",
        "device"
      ]
    },
    {
      "cell_type": "code",
      "execution_count": 49,
      "metadata": {
        "execution": {
          "iopub.execute_input": "2024-12-12T13:27:58.746242Z",
          "iopub.status.busy": "2024-12-12T13:27:58.745890Z",
          "iopub.status.idle": "2024-12-12T13:27:58.759230Z",
          "shell.execute_reply": "2024-12-12T13:27:58.758304Z",
          "shell.execute_reply.started": "2024-12-12T13:27:58.746202Z"
        },
        "id": "kVkYRa7X403Q",
        "trusted": true
      },
      "outputs": [],
      "source": [
        "class LSTM(nn.Module):\n",
        "    def __init__(self, CNNPretrained, hidden_size, num_classes, batch_size):\n",
        "        super(LSTM, self).__init__()\n",
        "        self.CNNPretrained = CNNPretrained\n",
        "        self.hidden_size = hidden_size\n",
        "        self.num_classes = num_classes\n",
        "        self.batch_size = batch_size\n",
        "\n",
        "        self.lstm = nn.LSTM(input_size=(2048*4*4), hidden_size=hidden_size, num_layers=4, batch_first=True)\n",
        "        self.fc1 = nn.Linear(hidden_size, 256)\n",
        "        self.fc2 = nn.Linear(256, num_classes)\n",
        "\n",
        "    def forward(self, x):\n",
        "        input = list()\n",
        "        for index in range(x.size(1)):\n",
        "            hidden = torch.zeros((self.batch_size, self.hidden_size))\n",
        "            frame = x[:, index]\n",
        "\n",
        "            frame = frame.float()\n",
        "            with torch.no_grad():\n",
        "                _x = self.CNNPretrained(frame)\n",
        "                _x = _x.view(_x.size(0), 2048*4*4)\n",
        "            input.append(_x)\n",
        "        input = torch.stack(input, dim=1)\n",
        "\n",
        "        out1, hidden1 = self.lstm(input)\n",
        "        res = self.fc1(hidden1[0])\n",
        "        x = self.fc2(res[0])\n",
        "\n",
        "        return x"
      ]
    },
    {
      "cell_type": "code",
      "execution_count": 50,
      "metadata": {
        "execution": {
          "iopub.execute_input": "2024-12-12T13:27:58.760945Z",
          "iopub.status.busy": "2024-12-12T13:27:58.760420Z",
          "iopub.status.idle": "2024-12-12T13:27:58.771313Z",
          "shell.execute_reply": "2024-12-12T13:27:58.770149Z",
          "shell.execute_reply.started": "2024-12-12T13:27:58.760903Z"
        },
        "id": "9flzdTd-qIuO",
        "trusted": true
      },
      "outputs": [],
      "source": [
        "class RNN(nn.Module):\n",
        "    def __init__(self, CNNPretrained, hidden_size, num_classes, batch_size):\n",
        "        super(RNN, self).__init__()\n",
        "        self.CNNPretrained = CNNPretrained\n",
        "        self.hidden_size = hidden_size\n",
        "        self.num_classes = num_classes\n",
        "        self.batch_size = batch_size\n",
        "\n",
        "        self.rnn = nn.RNN(input_size=(2048*4*4), hidden_size=hidden_size, num_layers=4, batch_first=True)\n",
        "        self.fc1 = nn.Linear(hidden_size, 256)\n",
        "        self.fc2 = nn.Linear(256, num_classes)\n",
        "\n",
        "    def forward(self, x):\n",
        "        input = list()\n",
        "        for index in range(x.size(1)):\n",
        "            frame = x[:, index]\n",
        "\n",
        "            frame = frame.float()\n",
        "            with torch.no_grad():\n",
        "                _x = self.CNNPretrained(frame)\n",
        "                _x = _x.view(_x.size(0), 2048*4*4)\n",
        "            input.append(_x)\n",
        "        input = torch.stack(input, dim=1)\n",
        "\n",
        "        out1, hidden1 = self.rnn(input)\n",
        "        res = self.fc1(hidden1[0])\n",
        "        x = self.fc2(res)\n",
        "\n",
        "        return x"
      ]
    },
    {
      "cell_type": "code",
      "execution_count": 51,
      "metadata": {
        "execution": {
          "iopub.execute_input": "2024-12-12T13:44:05.305087Z",
          "iopub.status.busy": "2024-12-12T13:44:05.304725Z",
          "iopub.status.idle": "2024-12-12T13:44:05.313789Z",
          "shell.execute_reply": "2024-12-12T13:44:05.312859Z",
          "shell.execute_reply.started": "2024-12-12T13:44:05.305056Z"
        },
        "id": "ItKaI1Tc403Q",
        "trusted": true
      },
      "outputs": [],
      "source": [
        "# Thêm patience và delta vào EarlyStopping\n",
        "class EarlyStopping:\n",
        "    def __init__(self, path_to_save, delta = 0.01, patience = 3, restore_best_weights=True):\n",
        "        '''\n",
        "        delta là tham số kiểm soát độ dao động của loss, loss ở các epoch đầu được phép dao dộng lớn hơn loss ở các epoch về sau\n",
        "        patience là số lượng epoch mà loss không giảm thì sẽ dừng train\n",
        "        restore_best_weights là lựa chọn có restore lại weight tốt nhất hay không\n",
        "        '''\n",
        "        self.best_val_loss_average = np.inf\n",
        "        self.best_val_loss = np.inf\n",
        "        self.path_to_save = path_to_save\n",
        "        self.early_stop = False\n",
        "        self.delta = delta\n",
        "        self.patience = patience\n",
        "        self.counter = 0\n",
        "        self.restore_best_weights = restore_best_weights\n",
        "        self.best_weights = None\n",
        "\n",
        "    def __call__(self, current_average_loss_val, current_loss_val,model):\n",
        "        if current_average_loss_val < self.best_val_loss_average:\n",
        "            print(f\"loss validation average decrease from {self.best_val_loss_average} to {current_average_loss_val}, Saving checkpoint...\")\n",
        "            self.best_val_loss_average = current_average_loss_val\n",
        "            self.best_val_loss = current_loss_val\n",
        "            self.counter = 0\n",
        "            self.best_weights = model.state_dict()\n",
        "            torch.save(model.state_dict(), self.path_to_save)\n",
        "        elif current_loss_val < self.best_val_loss:\n",
        "            print(f\"loss validation decrease from {self.best_val_loss} to {current_loss_val}, Saving checkpoint...\")\n",
        "            self.best_val_loss = current_loss_val\n",
        "            self.counter = 0\n",
        "            self.best_weights = model.state_dict()\n",
        "            torch.save(model.state_dict(), self.path_to_save)\n",
        "        elif current_average_loss_val < self.best_val_loss_average + self.delta*self.best_val_loss_average:\n",
        "            print(f\"loss validation average slightly increased from {self.best_val_loss_average} to {current_average_loss_val}, No save! \")\n",
        "            self.counter += 1\n",
        "        else:\n",
        "            self.counter += 1\n",
        "            print(f\"No improvement. Early stopping counter: {self.counter}/{self.patience}\")\n",
        "\n",
        "        # Nếu counter >= patience thì dừng train\n",
        "        if self.counter >= self.patience:\n",
        "            print(\"Early stopping\")\n",
        "            self.early_stop = True\n",
        "            if self.restore_best_weights and self.best_weights is not None:\n",
        "                model.load_state_dict(self.best_weights)\n",
        "                print(\"Restore best weights\")\n"
      ]
    },
    {
      "cell_type": "markdown",
      "metadata": {
        "id": "CUva1cCL403U"
      },
      "source": [
        "### Train"
      ]
    },
    {
      "cell_type": "markdown",
      "metadata": {
        "id": "IWzU2NY1-z-F"
      },
      "source": [
        "#### trainer"
      ]
    },
    {
      "cell_type": "code",
      "execution_count": 52,
      "metadata": {
        "execution": {
          "iopub.execute_input": "2024-12-12T13:44:06.452998Z",
          "iopub.status.busy": "2024-12-12T13:44:06.452435Z",
          "iopub.status.idle": "2024-12-12T13:44:06.466576Z",
          "shell.execute_reply": "2024-12-12T13:44:06.465732Z",
          "shell.execute_reply.started": "2024-12-12T13:44:06.452964Z"
        },
        "id": "Ht98gPqW403U",
        "trusted": true
      },
      "outputs": [],
      "source": [
        "class Trainer:\n",
        "    def __init__(self, dataloader_train, dataloader_val, model, optimizer, criterion, epochs=1, scheduler=None):\n",
        "        self.dataloader_train = dataloader_train\n",
        "        self.model = model\n",
        "        self.optimizer = optimizer\n",
        "        self.criterion = criterion\n",
        "        self.epochs = epochs\n",
        "        self.dataloader_val = dataloader_val\n",
        "        self.history_average_train_loss = []\n",
        "        self.history_average_train_acc = []\n",
        "        self.history_average_val_loss = []\n",
        "        self.history_average_val_acc = []\n",
        "        self.history_train_acc = []\n",
        "        self.epoch_after_early_stop = 1\n",
        "        self.early_stop_epoch = 0\n",
        "\n",
        "        # Thêm scheduler\n",
        "        self.scheduler = scheduler\n",
        "    def val(self, model_val, device):\n",
        "        torch.cuda.empty_cache()\n",
        "        pbar_val = tqdm(self.dataloader_val)\n",
        "        total_val = 0\n",
        "        total_correct_val = 0\n",
        "        all_loss_vall_current = []\n",
        "        all_acc_vall_current = []\n",
        "        last_loss_val = np.inf\n",
        "        for a, b in pbar_val:\n",
        "            a = a.to(device)\n",
        "            b = b.to(device)\n",
        "            out = model_val(a)\n",
        "            out = out.to(device)\n",
        "            criterion_val = self.criterion\n",
        "            loss_val = criterion_val(out, b)\n",
        "            all_loss_vall_current.append(loss_val.cpu().detach().numpy())\n",
        "            total_correct_val += (torch.argmax(out, dim=1) == b).sum().item()\n",
        "            total_val += b.size(0)\n",
        "            acc_val = total_correct_val/total_val\n",
        "            all_acc_vall_current.append(acc_val)\n",
        "            last_loss_val = loss_val\n",
        "            pbar_val.set_description(f'Acc_val: {acc_val} loss_val {loss_val}')\n",
        "        loss_val_average = np.average(all_loss_vall_current)\n",
        "        self.history_average_val_loss.append(loss_val_average)\n",
        "        self.history_average_val_acc.append(np.average(all_acc_vall_current))\n",
        "        return loss_val_average, last_loss_val\n",
        "\n",
        "    def train(self, path_to_save):\n",
        "        device = torch.device(\"cuda\" if torch.cuda.is_available() else \"cpu\")\n",
        "        model = self.model\n",
        "        model.to(device)\n",
        "        optimizer = self.optimizer\n",
        "        criterion = self.criterion\n",
        "        early_stopping = EarlyStopping( path_to_save, delta=0.1)\n",
        "        index_after_early_stop = 0\n",
        "        for epoch in range(self.epochs):\n",
        "            model.train()\n",
        "            current_loss_train = []\n",
        "            current_acc_train = []\n",
        "            pbar = tqdm(self.dataloader_train)\n",
        "            total = 0\n",
        "            total_correct = 0\n",
        "            print(optimizer.param_groups[0]['lr'])\n",
        "            for X, y in pbar:\n",
        "                torch.cuda.empty_cache()\n",
        "                optimizer.zero_grad()\n",
        "                X = X.to(device)\n",
        "                y = y.to(device)\n",
        "                yh = model(X)\n",
        "                yh = yh.to(device)\n",
        "                total_correct += (torch.argmax(yh, dim=1) == y).sum().item()\n",
        "                total += y.size(0)\n",
        "                acc = total_correct/total\n",
        "                loss = criterion(yh, y)\n",
        "                '''\n",
        "                Với criterion là CrossEntropyLoss thì thứ tự là output trc rồi đến target\n",
        "                    vì hàm này yêu cầu chiều của output là (batch_size x class) còn chiều của target là (batch_size)\n",
        "                '''\n",
        "                current_loss_train.append(loss.item())\n",
        "                current_acc_train.append(acc)\n",
        "                self.history_train_acc.append(acc)\n",
        "                loss.backward()\n",
        "                optimizer.step()\n",
        "                pbar.set_description(f'Epoch: {epoch} Loss: {loss.item()}, Acc: {acc}')\n",
        "            self.history_average_train_loss.append(np.average(current_loss_train))\n",
        "            self.history_average_train_acc.append(np.average(current_acc_train))\n",
        "            current_average_loss_val, current_loss_val = self.val(model.eval(), device)\n",
        "\n",
        "            # Thêm scheduler.step\n",
        "            if self.scheduler:\n",
        "                if isinstance(self.scheduler, torch.optim.lr_scheduler.ReduceLROnPlateau):\n",
        "                    self.scheduler.step(current_average_loss_val)  # Với ReduceLROnPlateau\n",
        "                    print(f\"Learning rate hiện tại: {optimizer.param_groups[0]['lr']}\")\n",
        "\n",
        "            print(f\"current_average_loss_val: {current_average_loss_val}\")\n",
        "\n",
        "            if early_stopping.early_stop:\n",
        "                index_after_early_stop += 1\n",
        "                print(f\"epoch {index_after_early_stop} after early stop\")\n",
        "                if index_after_early_stop == self.epoch_after_early_stop:\n",
        "                    break\n",
        "                continue\n",
        "            early_stopping.delta = 1 * (1/(epoch+1)) # điều chỉnh tham số delta theo epoch\n",
        "            early_stopping(current_average_loss_val, current_loss_val ,model)\n",
        "            if early_stopping.early_stop:\n",
        "                print(\"\\n early stop\")\n",
        "                self.early_stop_epoch = epoch"
      ]
    },
    {
      "cell_type": "code",
      "execution_count": 53,
      "metadata": {
        "execution": {
          "iopub.execute_input": "2024-12-12T13:44:12.807374Z",
          "iopub.status.busy": "2024-12-12T13:44:12.806641Z",
          "iopub.status.idle": "2024-12-12T13:44:12.811417Z",
          "shell.execute_reply": "2024-12-12T13:44:12.810551Z",
          "shell.execute_reply.started": "2024-12-12T13:44:12.807342Z"
        },
        "id": "KKp-kqAHqIuT",
        "trusted": true
      },
      "outputs": [],
      "source": [
        "from torch.optim.lr_scheduler import ReduceLROnPlateau\n",
        "def get_trainer(model):\n",
        "    learning_rate = 1e-4\n",
        "    optimizer = torch.optim.AdamW(model.parameters(), lr=learning_rate)\n",
        "    criterion = nn.CrossEntropyLoss()\n",
        "    scheduler = ReduceLROnPlateau(optimizer, mode='min', factor=0.1, patience=1, verbose=True)\n",
        "\n",
        "    n_epochs = 100\n",
        "\n",
        "    return Trainer(train_dataloader, val_dataloader, model, optimizer, criterion, n_epochs, scheduler)"
      ]
    },
    {
      "cell_type": "code",
      "execution_count": 54,
      "metadata": {
        "id": "ioSvjWNeupPD"
      },
      "outputs": [],
      "source": [
        "import matplotlib.pyplot as plt\n",
        "\n",
        "def get_plot(trainer, type, model_name):\n",
        "    plt.title(model_name)\n",
        "\n",
        "    if type == 'loss':\n",
        "        plt.plot(trainer.history_average_train_loss, label='train loss')\n",
        "        plt.plot(trainer.history_average_val_loss, label='val loss')\n",
        "    else:\n",
        "        plt.plot(trainer.history_average_train_acc, label='train acc')\n",
        "        plt.plot(trainer.history_average_val_acc, label='val acc')\n",
        "    plt.axvline(trainer.early_stop_epoch - 3, color='r', linestyle='--', label='early stop')\n",
        "    plt.legend()\n",
        "    plt.show()"
      ]
    },
    {
      "cell_type": "markdown",
      "metadata": {
        "id": "nCSyN4_h-wBh"
      },
      "source": [
        "#### config"
      ]
    },
    {
      "cell_type": "code",
      "execution_count": 55,
      "metadata": {
        "execution": {
          "iopub.execute_input": "2024-12-12T13:44:07.036393Z",
          "iopub.status.busy": "2024-12-12T13:44:07.036124Z",
          "iopub.status.idle": "2024-12-12T13:44:07.040336Z",
          "shell.execute_reply": "2024-12-12T13:44:07.039533Z",
          "shell.execute_reply.started": "2024-12-12T13:44:07.036366Z"
        },
        "id": "8iOeARAP403V",
        "trusted": true
      },
      "outputs": [],
      "source": [
        "HIDDEN_SIZE = 512\n",
        "NUM_CLASSES = 5\n",
        "BATCH_SIZE = 32"
      ]
    },
    {
      "cell_type": "code",
      "execution_count": 56,
      "metadata": {
        "execution": {
          "iopub.execute_input": "2024-12-12T13:44:07.516699Z",
          "iopub.status.busy": "2024-12-12T13:44:07.516438Z",
          "iopub.status.idle": "2024-12-12T13:44:08.069262Z",
          "shell.execute_reply": "2024-12-12T13:44:08.068565Z",
          "shell.execute_reply.started": "2024-12-12T13:44:07.516673Z"
        },
        "id": "8NVGtDW4qIuS",
        "trusted": true
      },
      "outputs": [],
      "source": [
        "# model = LSTM(Resnet50, HIDDEN_SIZE, NUM_CLASSES, BATCH_SIZE) # thay đổi batch_size nhớ thay cả ở chỗ này\n",
        "model_resnet50 = RNN(Resnet50, HIDDEN_SIZE, NUM_CLASSES, BATCH_SIZE).to(device)\n",
        "model_resnet101 = RNN(Resnet101, HIDDEN_SIZE, NUM_CLASSES, BATCH_SIZE).to(device)\n",
        "model_resnet152 = RNN(Resnet152, HIDDEN_SIZE, NUM_CLASSES, BATCH_SIZE).to(device)"
      ]
    },
    {
      "cell_type": "code",
      "execution_count": 57,
      "metadata": {
        "colab": {
          "base_uri": "https://localhost:8080/"
        },
        "execution": {
          "iopub.execute_input": "2024-12-12T13:44:09.935239Z",
          "iopub.status.busy": "2024-12-12T13:44:09.934912Z",
          "iopub.status.idle": "2024-12-12T13:44:10.934644Z",
          "shell.execute_reply": "2024-12-12T13:44:10.933829Z",
          "shell.execute_reply.started": "2024-12-12T13:44:09.935210Z"
        },
        "id": "_dxA43V2qIuT",
        "outputId": "b39fb42c-63e7-4dcd-88ae-51b68b57b8bb",
        "trusted": true
      },
      "outputs": [
        {
          "data": {
            "text/plain": [
              "tensor([[ 0.5655,  0.4349,  0.3586,  0.0616,  0.1177],\n",
              "        [ 0.4891,  0.0894,  0.1039, -0.4216, -0.2780],\n",
              "        [ 0.4458,  0.1696,  0.4174, -0.2262,  0.0156],\n",
              "        [-0.2784,  0.0566,  0.3734, -0.1246,  0.1979],\n",
              "        [ 0.1716, -0.0341,  0.4781, -0.0817, -0.3374],\n",
              "        [ 0.0714,  0.0880,  0.2726, -0.3626, -0.0649],\n",
              "        [ 0.4252, -0.0215,  0.4940, -0.2574,  0.1512],\n",
              "        [-0.0506, -0.1750,  0.4388, -0.2816, -0.0807],\n",
              "        [ 0.2584, -0.0423,  0.0897,  0.2184, -0.3240],\n",
              "        [ 0.4764,  0.6873,  0.0411, -0.0443, -0.0305],\n",
              "        [-0.0135,  0.1505,  0.1634, -0.3145, -0.0431],\n",
              "        [ 0.5199,  0.0242,  0.0867, -0.8135,  0.1281],\n",
              "        [ 0.1811, -0.0516,  0.3798, -0.1453, -0.1605],\n",
              "        [ 0.3289,  0.1645,  0.0283, -0.1863, -0.3987],\n",
              "        [-0.1381, -0.1139,  0.6800, -0.5939, -0.2020],\n",
              "        [ 0.3846, -0.0347,  0.6170, -0.1063,  0.2475],\n",
              "        [-0.0713,  0.2702,  0.4455, -0.0806,  0.3437],\n",
              "        [ 0.1745, -0.1850, -0.2089,  0.1233, -0.2435],\n",
              "        [ 0.4666,  0.3175,  0.0950, -0.2291, -0.5670],\n",
              "        [-0.1079,  0.4528,  0.0962, -0.0401, -0.0377],\n",
              "        [ 0.4706,  0.1642,  0.1601, -0.2231, -0.1169],\n",
              "        [ 0.8578, -0.0162,  0.0861,  0.0882, -0.0160],\n",
              "        [ 0.4084,  0.1614, -0.0280,  0.0242,  0.1071],\n",
              "        [ 0.1153,  0.5128,  0.4838, -0.6811,  0.1175],\n",
              "        [ 0.2699,  0.1306,  0.3218,  0.0177, -0.0899],\n",
              "        [ 0.1586,  0.2073,  0.9600, -0.4252,  0.0222],\n",
              "        [ 0.1811, -0.0516,  0.3798, -0.1453, -0.1605],\n",
              "        [-0.0707,  0.1276, -0.4258,  0.1006,  0.1817],\n",
              "        [ 0.5362,  0.1297,  0.1301,  0.2586, -0.4344],\n",
              "        [-0.1022,  0.4115,  0.3049, -0.3314, -0.1859],\n",
              "        [ 0.1198, -0.1472, -0.0330, -0.1501, -0.1970],\n",
              "        [-0.2307, -0.0704, -0.0201, -0.2821, -0.0131]], device='cuda:0',\n",
              "       grad_fn=<AddmmBackward0>)"
            ]
          },
          "execution_count": 57,
          "metadata": {},
          "output_type": "execute_result"
        }
      ],
      "source": [
        "test_output = model_resnet50(sample_frames.to(device))\n",
        "test_output"
      ]
    },
    {
      "cell_type": "code",
      "execution_count": 58,
      "metadata": {
        "execution": {
          "iopub.execute_input": "2024-12-12T13:44:14.004668Z",
          "iopub.status.busy": "2024-12-12T13:44:14.004054Z",
          "iopub.status.idle": "2024-12-12T13:44:14.012630Z",
          "shell.execute_reply": "2024-12-12T13:44:14.011750Z",
          "shell.execute_reply.started": "2024-12-12T13:44:14.004637Z"
        },
        "id": "n9j_qPOVqIuT",
        "trusted": true
      },
      "outputs": [],
      "source": [
        "trainer_resnet50 = get_trainer(model_resnet50)\n",
        "trainer_resnet101 = get_trainer(model_resnet101)\n",
        "trainer_resnet152 = get_trainer(model_resnet152)"
      ]
    },
    {
      "cell_type": "markdown",
      "metadata": {
        "id": "LOXBP4VF-fN2"
      },
      "source": [
        "#### ResNet50"
      ]
    },
    {
      "cell_type": "code",
      "execution_count": 59,
      "metadata": {
        "colab": {
          "base_uri": "https://localhost:8080/"
        },
        "collapsed": true,
        "execution": {
          "iopub.execute_input": "2024-12-12T13:44:18.877037Z",
          "iopub.status.busy": "2024-12-12T13:44:18.876483Z",
          "iopub.status.idle": "2024-12-12T14:14:11.564149Z",
          "shell.execute_reply": "2024-12-12T14:14:11.563283Z",
          "shell.execute_reply.started": "2024-12-12T13:44:18.877002Z"
        },
        "id": "jeQ4qm7P403V",
        "jupyter": {
          "outputs_hidden": true
        },
        "outputId": "cf7f37c9-b0cc-4036-bb92-50a2221f9a87",
        "trusted": true
      },
      "outputs": [
        {
          "name": "stderr",
          "output_type": "stream",
          "text": [
            "\r  0%|          | 0/25 [00:00<?, ?it/s]"
          ]
        },
        {
          "name": "stdout",
          "output_type": "stream",
          "text": [
            "0.0001\n"
          ]
        },
        {
          "name": "stderr",
          "output_type": "stream",
          "text": [
            "Epoch: 0 Loss: 0.5242856740951538, Acc: 0.675: 100%|██████████| 25/25 [01:23<00:00,  3.34s/it]\n",
            "Acc_val: 0.715 loss_val 1.1504786014556885: 100%|██████████| 7/7 [00:19<00:00,  2.83s/it]\n"
          ]
        },
        {
          "name": "stdout",
          "output_type": "stream",
          "text": [
            "current_average_loss_val: 0.9500870108604431\n",
            "loss validation average decrease from inf to 0.9500870108604431, Saving checkpoint...\n"
          ]
        },
        {
          "name": "stderr",
          "output_type": "stream",
          "text": [
            "\r  0%|          | 0/25 [00:00<?, ?it/s]"
          ]
        },
        {
          "name": "stdout",
          "output_type": "stream",
          "text": [
            "0.0001\n"
          ]
        },
        {
          "name": "stderr",
          "output_type": "stream",
          "text": [
            "Epoch: 1 Loss: 0.4236351549625397, Acc: 0.92125: 100%|██████████| 25/25 [01:24<00:00,  3.37s/it]\n",
            "Acc_val: 0.755 loss_val 0.8366624712944031: 100%|██████████| 7/7 [00:19<00:00,  2.80s/it]\n"
          ]
        },
        {
          "name": "stdout",
          "output_type": "stream",
          "text": [
            "current_average_loss_val: 0.6966498494148254\n",
            "loss validation average decrease from 0.9500870108604431 to 0.6966498494148254, Saving checkpoint...\n"
          ]
        },
        {
          "name": "stderr",
          "output_type": "stream",
          "text": [
            "\r  0%|          | 0/25 [00:00<?, ?it/s]"
          ]
        },
        {
          "name": "stdout",
          "output_type": "stream",
          "text": [
            "0.0001\n"
          ]
        },
        {
          "name": "stderr",
          "output_type": "stream",
          "text": [
            "Epoch: 2 Loss: 0.21418030560016632, Acc: 0.9525: 100%|██████████| 25/25 [01:24<00:00,  3.39s/it]\n",
            "Acc_val: 0.81 loss_val 0.5807913541793823: 100%|██████████| 7/7 [00:19<00:00,  2.81s/it]\n"
          ]
        },
        {
          "name": "stdout",
          "output_type": "stream",
          "text": [
            "current_average_loss_val: 0.5587599873542786\n",
            "loss validation average decrease from 0.6966498494148254 to 0.5587599873542786, Saving checkpoint...\n"
          ]
        },
        {
          "name": "stderr",
          "output_type": "stream",
          "text": [
            "\r  0%|          | 0/25 [00:00<?, ?it/s]"
          ]
        },
        {
          "name": "stdout",
          "output_type": "stream",
          "text": [
            "0.0001\n"
          ]
        },
        {
          "name": "stderr",
          "output_type": "stream",
          "text": [
            "Epoch: 3 Loss: 0.10055933892726898, Acc: 0.95125: 100%|██████████| 25/25 [01:24<00:00,  3.38s/it]\n",
            "Acc_val: 0.81 loss_val 0.41420912742614746: 100%|██████████| 7/7 [00:19<00:00,  2.82s/it]\n"
          ]
        },
        {
          "name": "stdout",
          "output_type": "stream",
          "text": [
            "current_average_loss_val: 0.5596749186515808\n",
            "loss validation decrease from 0.5807913541793823 to 0.41420912742614746, Saving checkpoint...\n"
          ]
        },
        {
          "name": "stderr",
          "output_type": "stream",
          "text": [
            "\r  0%|          | 0/25 [00:00<?, ?it/s]"
          ]
        },
        {
          "name": "stdout",
          "output_type": "stream",
          "text": [
            "0.0001\n"
          ]
        },
        {
          "name": "stderr",
          "output_type": "stream",
          "text": [
            "Epoch: 4 Loss: 0.12817448377609253, Acc: 0.96375: 100%|██████████| 25/25 [01:24<00:00,  3.40s/it]\n",
            "Acc_val: 0.75 loss_val 1.1750843524932861: 100%|██████████| 7/7 [00:19<00:00,  2.80s/it]\n"
          ]
        },
        {
          "name": "stdout",
          "output_type": "stream",
          "text": [
            "current_average_loss_val: 0.7470832467079163\n",
            "No improvement. Early stopping counter: 1/3\n"
          ]
        },
        {
          "name": "stderr",
          "output_type": "stream",
          "text": [
            "\r  0%|          | 0/25 [00:00<?, ?it/s]"
          ]
        },
        {
          "name": "stdout",
          "output_type": "stream",
          "text": [
            "0.0001\n"
          ]
        },
        {
          "name": "stderr",
          "output_type": "stream",
          "text": [
            "Epoch: 5 Loss: 0.12043049931526184, Acc: 0.9625: 100%|██████████| 25/25 [01:23<00:00,  3.35s/it]\n",
            "Acc_val: 0.85 loss_val 0.5919451713562012: 100%|██████████| 7/7 [00:19<00:00,  2.80s/it]\n"
          ]
        },
        {
          "name": "stdout",
          "output_type": "stream",
          "text": [
            "current_average_loss_val: 0.4863164722919464\n",
            "loss validation average decrease from 0.5587599873542786 to 0.4863164722919464, Saving checkpoint...\n"
          ]
        },
        {
          "name": "stderr",
          "output_type": "stream",
          "text": [
            "\r  0%|          | 0/25 [00:00<?, ?it/s]"
          ]
        },
        {
          "name": "stdout",
          "output_type": "stream",
          "text": [
            "0.0001\n"
          ]
        },
        {
          "name": "stderr",
          "output_type": "stream",
          "text": [
            "Epoch: 6 Loss: 0.025388550013303757, Acc: 0.965: 100%|██████████| 25/25 [01:24<00:00,  3.38s/it]\n",
            "Acc_val: 0.82 loss_val 1.2383902072906494: 100%|██████████| 7/7 [00:19<00:00,  2.82s/it]\n"
          ]
        },
        {
          "name": "stdout",
          "output_type": "stream",
          "text": [
            "current_average_loss_val: 0.570077657699585\n",
            "No improvement. Early stopping counter: 1/3\n"
          ]
        },
        {
          "name": "stderr",
          "output_type": "stream",
          "text": [
            "\r  0%|          | 0/25 [00:00<?, ?it/s]"
          ]
        },
        {
          "name": "stdout",
          "output_type": "stream",
          "text": [
            "0.0001\n"
          ]
        },
        {
          "name": "stderr",
          "output_type": "stream",
          "text": [
            "Epoch: 7 Loss: 0.024692239239811897, Acc: 0.96375: 100%|██████████| 25/25 [01:23<00:00,  3.36s/it]\n",
            "Acc_val: 0.73 loss_val 0.6153721809387207: 100%|██████████| 7/7 [00:19<00:00,  2.79s/it]\n"
          ]
        },
        {
          "name": "stdout",
          "output_type": "stream",
          "text": [
            "current_average_loss_val: 0.6690044403076172\n",
            "No improvement. Early stopping counter: 2/3\n"
          ]
        },
        {
          "name": "stderr",
          "output_type": "stream",
          "text": [
            "\r  0%|          | 0/25 [00:00<?, ?it/s]"
          ]
        },
        {
          "name": "stdout",
          "output_type": "stream",
          "text": [
            "0.0001\n"
          ]
        },
        {
          "name": "stderr",
          "output_type": "stream",
          "text": [
            "Epoch: 8 Loss: 0.197640061378479, Acc: 0.96375: 100%|██████████| 25/25 [01:23<00:00,  3.35s/it]\n",
            "Acc_val: 0.825 loss_val 0.43797412514686584: 100%|██████████| 7/7 [00:19<00:00,  2.80s/it]\n"
          ]
        },
        {
          "name": "stdout",
          "output_type": "stream",
          "text": [
            "current_average_loss_val: 0.4950237572193146\n",
            "loss validation decrease from 0.5919451713562012 to 0.43797412514686584, Saving checkpoint...\n"
          ]
        },
        {
          "name": "stderr",
          "output_type": "stream",
          "text": [
            "\r  0%|          | 0/25 [00:00<?, ?it/s]"
          ]
        },
        {
          "name": "stdout",
          "output_type": "stream",
          "text": [
            "0.0001\n"
          ]
        },
        {
          "name": "stderr",
          "output_type": "stream",
          "text": [
            "Epoch: 9 Loss: 0.09504307806491852, Acc: 0.965: 100%|██████████| 25/25 [01:24<00:00,  3.38s/it]\n",
            "Acc_val: 0.855 loss_val 0.13502398133277893: 100%|██████████| 7/7 [00:19<00:00,  2.83s/it]\n"
          ]
        },
        {
          "name": "stdout",
          "output_type": "stream",
          "text": [
            "current_average_loss_val: 0.43044260144233704\n",
            "loss validation average decrease from 0.4863164722919464 to 0.43044260144233704, Saving checkpoint...\n"
          ]
        },
        {
          "name": "stderr",
          "output_type": "stream",
          "text": [
            "\r  0%|          | 0/25 [00:00<?, ?it/s]"
          ]
        },
        {
          "name": "stdout",
          "output_type": "stream",
          "text": [
            "0.0001\n"
          ]
        },
        {
          "name": "stderr",
          "output_type": "stream",
          "text": [
            "Epoch: 10 Loss: 0.24969597160816193, Acc: 0.965: 100%|██████████| 25/25 [01:24<00:00,  3.39s/it]\n",
            "Acc_val: 0.76 loss_val 1.5228089094161987: 100%|██████████| 7/7 [00:19<00:00,  2.80s/it]\n"
          ]
        },
        {
          "name": "stdout",
          "output_type": "stream",
          "text": [
            "current_average_loss_val: 0.7112236618995667\n",
            "No improvement. Early stopping counter: 1/3\n"
          ]
        },
        {
          "name": "stderr",
          "output_type": "stream",
          "text": [
            "\r  0%|          | 0/25 [00:00<?, ?it/s]"
          ]
        },
        {
          "name": "stdout",
          "output_type": "stream",
          "text": [
            "0.0001\n"
          ]
        },
        {
          "name": "stderr",
          "output_type": "stream",
          "text": [
            "Epoch: 11 Loss: 0.10373744368553162, Acc: 0.96375: 100%|██████████| 25/25 [01:23<00:00,  3.35s/it]\n",
            "Acc_val: 0.72 loss_val 0.7606555819511414: 100%|██████████| 7/7 [00:19<00:00,  2.80s/it]\n"
          ]
        },
        {
          "name": "stdout",
          "output_type": "stream",
          "text": [
            "current_average_loss_val: 0.7360273003578186\n",
            "No improvement. Early stopping counter: 2/3\n"
          ]
        },
        {
          "name": "stderr",
          "output_type": "stream",
          "text": [
            "\r  0%|          | 0/25 [00:00<?, ?it/s]"
          ]
        },
        {
          "name": "stdout",
          "output_type": "stream",
          "text": [
            "0.0001\n"
          ]
        },
        {
          "name": "stderr",
          "output_type": "stream",
          "text": [
            "Epoch: 12 Loss: 0.36207816004753113, Acc: 0.965: 100%|██████████| 25/25 [01:23<00:00,  3.35s/it]\n",
            "Acc_val: 0.815 loss_val 0.7622500658035278: 100%|██████████| 7/7 [00:19<00:00,  2.81s/it]\n"
          ]
        },
        {
          "name": "stdout",
          "output_type": "stream",
          "text": [
            "current_average_loss_val: 0.5277897119522095\n",
            "No improvement. Early stopping counter: 3/3\n",
            "Early stopping\n",
            "Restore best weights\n",
            "\n",
            " early stop\n"
          ]
        },
        {
          "name": "stderr",
          "output_type": "stream",
          "text": [
            "\r  0%|          | 0/25 [00:00<?, ?it/s]"
          ]
        },
        {
          "name": "stdout",
          "output_type": "stream",
          "text": [
            "0.0001\n"
          ]
        },
        {
          "name": "stderr",
          "output_type": "stream",
          "text": [
            "Epoch: 13 Loss: 0.022320404648780823, Acc: 0.965: 100%|██████████| 25/25 [01:23<00:00,  3.35s/it]\n",
            "Acc_val: 0.785 loss_val 0.772854208946228: 100%|██████████| 7/7 [00:19<00:00,  2.80s/it]"
          ]
        },
        {
          "name": "stdout",
          "output_type": "stream",
          "text": [
            "current_average_loss_val: 0.6131026148796082\n",
            "epoch 1 after early stop\n"
          ]
        },
        {
          "name": "stderr",
          "output_type": "stream",
          "text": [
            "\n"
          ]
        }
      ],
      "source": [
        "torch.cuda.empty_cache()\n",
        "trainer_resnet50.train(\"model50-rnn_checkpoint.pt\")"
      ]
    },
    {
      "cell_type": "code",
      "execution_count": 60,
      "metadata": {
        "colab": {
          "base_uri": "https://localhost:8080/",
          "height": 887
        },
        "id": "VTGDiaPCusw5",
        "outputId": "28ea72d3-08f6-4d9f-a4ec-5268b8ee808e"
      },
      "outputs": [
        {
          "data": {
            "image/png": "[encoded data removed]",
            "text/plain": [
              "<Figure size 640x480 with 1 Axes>"
            ]
          },
          "metadata": {},
          "output_type": "display_data"
        },
        {
          "data": {
            "image/png": "[encoded data removed]",
            "text/plain": [
              "<Figure size 640x480 with 1 Axes>"
            ]
          },
          "metadata": {},
          "output_type": "display_data"
        }
      ],
      "source": [
        "get_plot(trainer_resnet50, \"loss\", \"ResNet50\")\n",
        "get_plot(trainer_resnet50, \"acc\", \"ResNet50\")"
      ]
    },
    {
      "cell_type": "markdown",
      "metadata": {
        "id": "49dMoIP5-jNx"
      },
      "source": [
        "#### Resnet101"
      ]
    },
    {
      "cell_type": "code",
      "execution_count": 65,
      "metadata": {
        "colab": {
          "base_uri": "https://localhost:8080/"
        },
        "collapsed": true,
        "execution": {
          "iopub.execute_input": "2024-12-12T14:14:11.566417Z",
          "iopub.status.busy": "2024-12-12T14:14:11.566046Z",
          "iopub.status.idle": "2024-12-12T14:56:33.826506Z",
          "shell.execute_reply": "2024-12-12T14:56:33.825672Z",
          "shell.execute_reply.started": "2024-12-12T14:14:11.566377Z"
        },
        "id": "ya3GPJsWqIuT",
        "jupyter": {
          "outputs_hidden": true
        },
        "outputId": "f52b1ace-dcc3-407a-c901-c8c761aadcda",
        "trusted": true
      },
      "outputs": [
        {
          "name": "stderr",
          "output_type": "stream",
          "text": [
            "\r  0%|          | 0/25 [00:00<?, ?it/s]"
          ]
        },
        {
          "name": "stdout",
          "output_type": "stream",
          "text": [
            "0.0001\n"
          ]
        },
        {
          "name": "stderr",
          "output_type": "stream",
          "text": [
            "Epoch: 0 Loss: 0.5825443863868713, Acc: 0.66875: 100%|██████████| 25/25 [02:15<00:00,  5.43s/it]\n",
            "Acc_val: 0.765 loss_val 0.9795047640800476: 100%|██████████| 7/7 [00:32<00:00,  4.58s/it]\n"
          ]
        },
        {
          "name": "stdout",
          "output_type": "stream",
          "text": [
            "current_average_loss_val: 0.9313093423843384\n",
            "loss validation average decrease from inf to 0.9313093423843384, Saving checkpoint...\n"
          ]
        },
        {
          "name": "stderr",
          "output_type": "stream",
          "text": [
            "\r  0%|          | 0/25 [00:00<?, ?it/s]"
          ]
        },
        {
          "name": "stdout",
          "output_type": "stream",
          "text": [
            "0.0001\n"
          ]
        },
        {
          "name": "stderr",
          "output_type": "stream",
          "text": [
            "Epoch: 1 Loss: 0.2541160583496094, Acc: 0.93: 100%|██████████| 25/25 [02:14<00:00,  5.39s/it]\n",
            "Acc_val: 0.795 loss_val 0.14882218837738037: 100%|██████████| 7/7 [00:32<00:00,  4.65s/it]\n"
          ]
        },
        {
          "name": "stdout",
          "output_type": "stream",
          "text": [
            "current_average_loss_val: 0.6036725044250488\n",
            "loss validation average decrease from 0.9313093423843384 to 0.6036725044250488, Saving checkpoint...\n"
          ]
        },
        {
          "name": "stderr",
          "output_type": "stream",
          "text": [
            "\r  0%|          | 0/25 [00:00<?, ?it/s]"
          ]
        },
        {
          "name": "stdout",
          "output_type": "stream",
          "text": [
            "0.0001\n"
          ]
        },
        {
          "name": "stderr",
          "output_type": "stream",
          "text": [
            "Epoch: 2 Loss: 0.062004461884498596, Acc: 0.95375: 100%|██████████| 25/25 [02:15<00:00,  5.43s/it]\n",
            "Acc_val: 0.795 loss_val 0.5714560747146606: 100%|██████████| 7/7 [00:32<00:00,  4.59s/it]\n"
          ]
        },
        {
          "name": "stdout",
          "output_type": "stream",
          "text": [
            "current_average_loss_val: 0.5670045614242554\n",
            "loss validation average decrease from 0.6036725044250488 to 0.5670045614242554, Saving checkpoint...\n"
          ]
        },
        {
          "name": "stderr",
          "output_type": "stream",
          "text": [
            "\r  0%|          | 0/25 [00:00<?, ?it/s]"
          ]
        },
        {
          "name": "stdout",
          "output_type": "stream",
          "text": [
            "0.0001\n"
          ]
        },
        {
          "name": "stderr",
          "output_type": "stream",
          "text": [
            "Epoch: 3 Loss: 0.07329213619232178, Acc: 0.9575: 100%|██████████| 25/25 [02:14<00:00,  5.39s/it]\n",
            "Acc_val: 0.83 loss_val 0.5142917037010193: 100%|██████████| 7/7 [00:32<00:00,  4.61s/it]\n"
          ]
        },
        {
          "name": "stdout",
          "output_type": "stream",
          "text": [
            "current_average_loss_val: 0.4967289865016937\n",
            "loss validation average decrease from 0.5670045614242554 to 0.4967289865016937, Saving checkpoint...\n"
          ]
        },
        {
          "name": "stderr",
          "output_type": "stream",
          "text": [
            "\r  0%|          | 0/25 [00:00<?, ?it/s]"
          ]
        },
        {
          "name": "stdout",
          "output_type": "stream",
          "text": [
            "0.0001\n"
          ]
        },
        {
          "name": "stderr",
          "output_type": "stream",
          "text": [
            "Epoch: 4 Loss: 0.2707313895225525, Acc: 0.96125: 100%|██████████| 25/25 [02:15<00:00,  5.43s/it]\n",
            "Acc_val: 0.81 loss_val 0.5012307167053223: 100%|██████████| 7/7 [00:32<00:00,  4.59s/it]\n"
          ]
        },
        {
          "name": "stdout",
          "output_type": "stream",
          "text": [
            "current_average_loss_val: 0.5347544550895691\n",
            "loss validation decrease from 0.5142917037010193 to 0.5012307167053223, Saving checkpoint...\n"
          ]
        },
        {
          "name": "stderr",
          "output_type": "stream",
          "text": [
            "\r  0%|          | 0/25 [00:00<?, ?it/s]"
          ]
        },
        {
          "name": "stdout",
          "output_type": "stream",
          "text": [
            "0.0001\n"
          ]
        },
        {
          "name": "stderr",
          "output_type": "stream",
          "text": [
            "Epoch: 5 Loss: 0.07033602893352509, Acc: 0.9625: 100%|██████████| 25/25 [02:15<00:00,  5.42s/it]\n",
            "Acc_val: 0.77 loss_val 1.0383822917938232: 100%|██████████| 7/7 [00:32<00:00,  4.59s/it]\n"
          ]
        },
        {
          "name": "stdout",
          "output_type": "stream",
          "text": [
            "current_average_loss_val: 0.6836571097373962\n",
            "No improvement. Early stopping counter: 1/3\n"
          ]
        },
        {
          "name": "stderr",
          "output_type": "stream",
          "text": [
            "\r  0%|          | 0/25 [00:00<?, ?it/s]"
          ]
        },
        {
          "name": "stdout",
          "output_type": "stream",
          "text": [
            "0.0001\n"
          ]
        },
        {
          "name": "stderr",
          "output_type": "stream",
          "text": [
            "Epoch: 6 Loss: 0.14270327985286713, Acc: 0.9625: 100%|██████████| 25/25 [02:14<00:00,  5.39s/it]\n",
            "Acc_val: 0.83 loss_val 0.7491797208786011: 100%|██████████| 7/7 [00:32<00:00,  4.62s/it]\n"
          ]
        },
        {
          "name": "stdout",
          "output_type": "stream",
          "text": [
            "current_average_loss_val: 0.5108070373535156\n",
            "loss validation average slightly increased from 0.4967289865016937 to 0.5108070373535156, No save! \n"
          ]
        },
        {
          "name": "stderr",
          "output_type": "stream",
          "text": [
            "\r  0%|          | 0/25 [00:00<?, ?it/s]"
          ]
        },
        {
          "name": "stdout",
          "output_type": "stream",
          "text": [
            "0.0001\n"
          ]
        },
        {
          "name": "stderr",
          "output_type": "stream",
          "text": [
            "Epoch: 7 Loss: 0.32914531230926514, Acc: 0.9625: 100%|██████████| 25/25 [02:15<00:00,  5.42s/it]\n",
            "Acc_val: 0.79 loss_val 0.06251809746026993: 100%|██████████| 7/7 [00:32<00:00,  4.59s/it]\n"
          ]
        },
        {
          "name": "stdout",
          "output_type": "stream",
          "text": [
            "current_average_loss_val: 0.5481947064399719\n",
            "loss validation decrease from 0.5012307167053223 to 0.06251809746026993, Saving checkpoint...\n"
          ]
        },
        {
          "name": "stderr",
          "output_type": "stream",
          "text": [
            "\r  0%|          | 0/25 [00:00<?, ?it/s]"
          ]
        },
        {
          "name": "stdout",
          "output_type": "stream",
          "text": [
            "0.0001\n"
          ]
        },
        {
          "name": "stderr",
          "output_type": "stream",
          "text": [
            "Epoch: 8 Loss: 0.09671769291162491, Acc: 0.9625: 100%|██████████| 25/25 [02:15<00:00,  5.41s/it]\n",
            "Acc_val: 0.82 loss_val 0.04358787462115288: 100%|██████████| 7/7 [00:32<00:00,  4.60s/it]\n"
          ]
        },
        {
          "name": "stdout",
          "output_type": "stream",
          "text": [
            "current_average_loss_val: 0.4683585464954376\n",
            "loss validation average decrease from 0.4967289865016937 to 0.4683585464954376, Saving checkpoint...\n"
          ]
        },
        {
          "name": "stderr",
          "output_type": "stream",
          "text": [
            "\r  0%|          | 0/25 [00:00<?, ?it/s]"
          ]
        },
        {
          "name": "stdout",
          "output_type": "stream",
          "text": [
            "0.0001\n"
          ]
        },
        {
          "name": "stderr",
          "output_type": "stream",
          "text": [
            "Epoch: 9 Loss: 0.14015786349773407, Acc: 0.965: 100%|██████████| 25/25 [02:14<00:00,  5.40s/it]\n",
            "Acc_val: 0.785 loss_val 0.3276940584182739: 100%|██████████| 7/7 [00:32<00:00,  4.59s/it]\n"
          ]
        },
        {
          "name": "stdout",
          "output_type": "stream",
          "text": [
            "current_average_loss_val: 0.5956416726112366\n",
            "No improvement. Early stopping counter: 1/3\n"
          ]
        },
        {
          "name": "stderr",
          "output_type": "stream",
          "text": [
            "\r  0%|          | 0/25 [00:00<?, ?it/s]"
          ]
        },
        {
          "name": "stdout",
          "output_type": "stream",
          "text": [
            "0.0001\n"
          ]
        },
        {
          "name": "stderr",
          "output_type": "stream",
          "text": [
            "Epoch: 10 Loss: 0.21946407854557037, Acc: 0.96375: 100%|██████████| 25/25 [02:14<00:00,  5.39s/it]\n",
            "Acc_val: 0.845 loss_val 0.10267113149166107: 100%|██████████| 7/7 [00:32<00:00,  4.61s/it]\n"
          ]
        },
        {
          "name": "stdout",
          "output_type": "stream",
          "text": [
            "current_average_loss_val: 0.4275074899196625\n",
            "loss validation average decrease from 0.4683585464954376 to 0.4275074899196625, Saving checkpoint...\n"
          ]
        },
        {
          "name": "stderr",
          "output_type": "stream",
          "text": [
            "\r  0%|          | 0/25 [00:00<?, ?it/s]"
          ]
        },
        {
          "name": "stdout",
          "output_type": "stream",
          "text": [
            "0.0001\n"
          ]
        },
        {
          "name": "stderr",
          "output_type": "stream",
          "text": [
            "Epoch: 11 Loss: 0.07648484408855438, Acc: 0.96375: 100%|██████████| 25/25 [02:15<00:00,  5.42s/it]\n",
            "Acc_val: 0.805 loss_val 0.7570056319236755: 100%|██████████| 7/7 [00:32<00:00,  4.59s/it]\n"
          ]
        },
        {
          "name": "stdout",
          "output_type": "stream",
          "text": [
            "current_average_loss_val: 0.5954402089118958\n",
            "No improvement. Early stopping counter: 1/3\n"
          ]
        },
        {
          "name": "stderr",
          "output_type": "stream",
          "text": [
            "\r  0%|          | 0/25 [00:00<?, ?it/s]"
          ]
        },
        {
          "name": "stdout",
          "output_type": "stream",
          "text": [
            "0.0001\n"
          ]
        },
        {
          "name": "stderr",
          "output_type": "stream",
          "text": [
            "Epoch: 12 Loss: 0.10124494135379791, Acc: 0.96375: 100%|██████████| 25/25 [02:15<00:00,  5.41s/it]\n",
            "Acc_val: 0.83 loss_val 0.5779005289077759: 100%|██████████| 7/7 [00:32<00:00,  4.61s/it]\n"
          ]
        },
        {
          "name": "stdout",
          "output_type": "stream",
          "text": [
            "current_average_loss_val: 0.4904075264930725\n",
            "No improvement. Early stopping counter: 2/3\n"
          ]
        },
        {
          "name": "stderr",
          "output_type": "stream",
          "text": [
            "\r  0%|          | 0/25 [00:00<?, ?it/s]"
          ]
        },
        {
          "name": "stdout",
          "output_type": "stream",
          "text": [
            "0.0001\n"
          ]
        },
        {
          "name": "stderr",
          "output_type": "stream",
          "text": [
            "Epoch: 13 Loss: 0.06852088868618011, Acc: 0.965: 100%|██████████| 25/25 [02:15<00:00,  5.41s/it]\n",
            "Acc_val: 0.805 loss_val 0.30394214391708374: 100%|██████████| 7/7 [00:32<00:00,  4.60s/it]\n"
          ]
        },
        {
          "name": "stdout",
          "output_type": "stream",
          "text": [
            "current_average_loss_val: 0.5389729738235474\n",
            "No improvement. Early stopping counter: 3/3\n",
            "Early stopping\n",
            "Restore best weights\n",
            "\n",
            " early stop\n"
          ]
        },
        {
          "name": "stderr",
          "output_type": "stream",
          "text": [
            "\r  0%|          | 0/25 [00:00<?, ?it/s]"
          ]
        },
        {
          "name": "stdout",
          "output_type": "stream",
          "text": [
            "0.0001\n"
          ]
        },
        {
          "name": "stderr",
          "output_type": "stream",
          "text": [
            "Epoch: 14 Loss: 0.11204738169908524, Acc: 0.96375: 100%|██████████| 25/25 [02:15<00:00,  5.41s/it]\n",
            "Acc_val: 0.82 loss_val 0.11435049027204514: 100%|██████████| 7/7 [00:32<00:00,  4.59s/it]"
          ]
        },
        {
          "name": "stdout",
          "output_type": "stream",
          "text": [
            "current_average_loss_val: 0.5262882113456726\n",
            "epoch 1 after early stop\n"
          ]
        },
        {
          "name": "stderr",
          "output_type": "stream",
          "text": [
            "\n"
          ]
        }
      ],
      "source": [
        "torch.cuda.empty_cache()\n",
        "trainer_resnet101.train(\"model101-rnn_checkpoint.pt\")"
      ]
    },
    {
      "cell_type": "code",
      "execution_count": 66,
      "metadata": {
        "colab": {
          "base_uri": "https://localhost:8080/",
          "height": 887
        },
        "id": "US6YLlcsuuAk",
        "outputId": "6730e765-4a4e-4a53-e4bc-3adffcd05d4f"
      },
      "outputs": [
        {
          "data": {
            "image/png": "[encoded data removed]",
            "text/plain": [
              "<Figure size 640x480 with 1 Axes>"
            ]
          },
          "metadata": {},
          "output_type": "display_data"
        },
        {
          "data": {
            "image/png": "[encoded data removed]",
            "text/plain": [
              "<Figure size 640x480 with 1 Axes>"
            ]
          },
          "metadata": {},
          "output_type": "display_data"
        }
      ],
      "source": [
        "get_plot(trainer_resnet101, \"loss\", \"ResNet101\")\n",
        "get_plot(trainer_resnet101, \"acc\", \"ResNet101\")"
      ]
    },
    {
      "cell_type": "markdown",
      "metadata": {
        "id": "kH4LBuDY-l5V"
      },
      "source": [
        "#### Resnet152"
      ]
    },
    {
      "cell_type": "code",
      "execution_count": 69,
      "metadata": {
        "colab": {
          "base_uri": "https://localhost:8080/"
        },
        "execution": {
          "iopub.execute_input": "2024-12-12T14:56:33.828102Z",
          "iopub.status.busy": "2024-12-12T14:56:33.827718Z"
        },
        "id": "QcQTONrnqIuT",
        "outputId": "0d71d9c0-b1fc-49c1-eee4-6fcd9b0982d0",
        "trusted": true
      },
      "outputs": [
        {
          "name": "stderr",
          "output_type": "stream",
          "text": [
            "\r  0%|          | 0/25 [00:00<?, ?it/s]"
          ]
        },
        {
          "name": "stdout",
          "output_type": "stream",
          "text": [
            "0.0001\n"
          ]
        },
        {
          "name": "stderr",
          "output_type": "stream",
          "text": [
            "Epoch: 0 Loss: 0.4458986222743988, Acc: 0.67375: 100%|██████████| 25/25 [03:05<00:00,  7.41s/it]\n",
            "Acc_val: 0.7 loss_val 0.780310869216919: 100%|██████████| 7/7 [00:45<00:00,  6.48s/it]\n"
          ]
        },
        {
          "name": "stdout",
          "output_type": "stream",
          "text": [
            "current_average_loss_val: 0.9215905070304871\n",
            "loss validation average decrease from inf to 0.9215905070304871, Saving checkpoint...\n"
          ]
        },
        {
          "name": "stderr",
          "output_type": "stream",
          "text": [
            "\r  0%|          | 0/25 [00:00<?, ?it/s]"
          ]
        },
        {
          "name": "stdout",
          "output_type": "stream",
          "text": [
            "0.0001\n"
          ]
        },
        {
          "name": "stderr",
          "output_type": "stream",
          "text": [
            "Epoch: 1 Loss: 0.22960937023162842, Acc: 0.90875: 100%|██████████| 25/25 [03:08<00:00,  7.53s/it]\n",
            "Acc_val: 0.79 loss_val 0.4948475956916809: 100%|██████████| 7/7 [00:45<00:00,  6.53s/it]\n"
          ]
        },
        {
          "name": "stdout",
          "output_type": "stream",
          "text": [
            "current_average_loss_val: 0.5748447179794312\n",
            "loss validation average decrease from 0.9215905070304871 to 0.5748447179794312, Saving checkpoint...\n"
          ]
        },
        {
          "name": "stderr",
          "output_type": "stream",
          "text": [
            "\r  0%|          | 0/25 [00:00<?, ?it/s]"
          ]
        },
        {
          "name": "stdout",
          "output_type": "stream",
          "text": [
            "0.0001\n"
          ]
        },
        {
          "name": "stderr",
          "output_type": "stream",
          "text": [
            "Epoch: 2 Loss: 0.16169476509094238, Acc: 0.9525: 100%|██████████| 25/25 [03:09<00:00,  7.57s/it]\n",
            "Acc_val: 0.765 loss_val 0.64404296875: 100%|██████████| 7/7 [00:45<00:00,  6.55s/it]\n"
          ]
        },
        {
          "name": "stdout",
          "output_type": "stream",
          "text": [
            "current_average_loss_val: 0.6158695220947266\n",
            "loss validation average slightly increased from 0.5748447179794312 to 0.6158695220947266, No save! \n"
          ]
        },
        {
          "name": "stderr",
          "output_type": "stream",
          "text": [
            "\r  0%|          | 0/25 [00:00<?, ?it/s]"
          ]
        },
        {
          "name": "stdout",
          "output_type": "stream",
          "text": [
            "0.0001\n"
          ]
        },
        {
          "name": "stderr",
          "output_type": "stream",
          "text": [
            "Epoch: 3 Loss: 0.3393789231777191, Acc: 0.96: 100%|██████████| 25/25 [03:08<00:00,  7.53s/it]\n",
            "Acc_val: 0.845 loss_val 0.617539644241333: 100%|██████████| 7/7 [00:45<00:00,  6.45s/it]\n"
          ]
        },
        {
          "name": "stdout",
          "output_type": "stream",
          "text": [
            "current_average_loss_val: 0.48593196272850037\n",
            "loss validation average decrease from 0.5748447179794312 to 0.48593196272850037, Saving checkpoint...\n"
          ]
        },
        {
          "name": "stderr",
          "output_type": "stream",
          "text": [
            "\r  0%|          | 0/25 [00:00<?, ?it/s]"
          ]
        },
        {
          "name": "stdout",
          "output_type": "stream",
          "text": [
            "0.0001\n"
          ]
        },
        {
          "name": "stderr",
          "output_type": "stream",
          "text": [
            "Epoch: 4 Loss: 0.10596577078104019, Acc: 0.9475: 100%|██████████| 25/25 [03:08<00:00,  7.53s/it]\n",
            "Acc_val: 0.765 loss_val 0.9079544544219971: 100%|██████████| 7/7 [00:45<00:00,  6.56s/it]\n"
          ]
        },
        {
          "name": "stdout",
          "output_type": "stream",
          "text": [
            "current_average_loss_val: 0.6221427917480469\n",
            "No improvement. Early stopping counter: 1/3\n"
          ]
        },
        {
          "name": "stderr",
          "output_type": "stream",
          "text": [
            "\r  0%|          | 0/25 [00:00<?, ?it/s]"
          ]
        },
        {
          "name": "stdout",
          "output_type": "stream",
          "text": [
            "0.0001\n"
          ]
        },
        {
          "name": "stderr",
          "output_type": "stream",
          "text": [
            "Epoch: 5 Loss: 0.041925542056560516, Acc: 0.96125: 100%|██████████| 25/25 [03:08<00:00,  7.53s/it]\n",
            "Acc_val: 0.81 loss_val 0.26399463415145874: 100%|██████████| 7/7 [00:45<00:00,  6.47s/it]\n"
          ]
        },
        {
          "name": "stdout",
          "output_type": "stream",
          "text": [
            "current_average_loss_val: 0.4834391474723816\n",
            "loss validation average decrease from 0.48593196272850037 to 0.4834391474723816, Saving checkpoint...\n"
          ]
        },
        {
          "name": "stderr",
          "output_type": "stream",
          "text": [
            "\r  0%|          | 0/25 [00:00<?, ?it/s]"
          ]
        },
        {
          "name": "stdout",
          "output_type": "stream",
          "text": [
            "0.0001\n"
          ]
        },
        {
          "name": "stderr",
          "output_type": "stream",
          "text": [
            "Epoch: 6 Loss: 0.08552291244268417, Acc: 0.9625: 100%|██████████| 25/25 [03:08<00:00,  7.53s/it]\n",
            "Acc_val: 0.785 loss_val 0.7024901509284973: 100%|██████████| 7/7 [00:45<00:00,  6.54s/it]\n"
          ]
        },
        {
          "name": "stdout",
          "output_type": "stream",
          "text": [
            "current_average_loss_val: 0.6286351084709167\n",
            "No improvement. Early stopping counter: 1/3\n"
          ]
        },
        {
          "name": "stderr",
          "output_type": "stream",
          "text": [
            "\r  0%|          | 0/25 [00:00<?, ?it/s]"
          ]
        },
        {
          "name": "stdout",
          "output_type": "stream",
          "text": [
            "0.0001\n"
          ]
        },
        {
          "name": "stderr",
          "output_type": "stream",
          "text": [
            "Epoch: 7 Loss: 0.042904969304800034, Acc: 0.96375: 100%|██████████| 25/25 [03:08<00:00,  7.54s/it]\n",
            "Acc_val: 0.805 loss_val 0.3755987584590912: 100%|██████████| 7/7 [00:45<00:00,  6.47s/it]\n"
          ]
        },
        {
          "name": "stdout",
          "output_type": "stream",
          "text": [
            "current_average_loss_val: 0.5283212065696716\n",
            "loss validation average slightly increased from 0.4834391474723816 to 0.5283212065696716, No save! \n"
          ]
        },
        {
          "name": "stderr",
          "output_type": "stream",
          "text": [
            "\r  0%|          | 0/25 [00:00<?, ?it/s]"
          ]
        },
        {
          "name": "stdout",
          "output_type": "stream",
          "text": [
            "0.0001\n"
          ]
        },
        {
          "name": "stderr",
          "output_type": "stream",
          "text": [
            "Epoch: 8 Loss: 0.07514908909797668, Acc: 0.965: 100%|██████████| 25/25 [03:08<00:00,  7.56s/it]\n",
            "Acc_val: 0.79 loss_val 0.2918599545955658: 100%|██████████| 7/7 [00:45<00:00,  6.55s/it]\n"
          ]
        },
        {
          "name": "stdout",
          "output_type": "stream",
          "text": [
            "current_average_loss_val: 0.5724992156028748\n",
            "No improvement. Early stopping counter: 3/3\n",
            "Early stopping\n",
            "Restore best weights\n",
            "\n",
            " early stop\n"
          ]
        },
        {
          "name": "stderr",
          "output_type": "stream",
          "text": [
            "\r  0%|          | 0/25 [00:00<?, ?it/s]"
          ]
        },
        {
          "name": "stdout",
          "output_type": "stream",
          "text": [
            "0.0001\n"
          ]
        },
        {
          "name": "stderr",
          "output_type": "stream",
          "text": [
            "Epoch: 9 Loss: 0.1394631564617157, Acc: 0.965: 100%|██████████| 25/25 [03:08<00:00,  7.53s/it]\n",
            "Acc_val: 0.735 loss_val 0.5093856453895569: 100%|██████████| 7/7 [00:45<00:00,  6.46s/it]"
          ]
        },
        {
          "name": "stdout",
          "output_type": "stream",
          "text": [
            "current_average_loss_val: 0.6743130087852478\n",
            "epoch 1 after early stop\n"
          ]
        },
        {
          "name": "stderr",
          "output_type": "stream",
          "text": [
            "\n"
          ]
        }
      ],
      "source": [
        "torch.cuda.empty_cache()\n",
        "trainer_resnet152.train(\"model152-rnn_checkpoint.pt\")"
      ]
    },
    {
      "cell_type": "code",
      "execution_count": 72,
      "metadata": {
        "colab": {
          "base_uri": "https://localhost:8080/",
          "height": 887
        },
        "id": "IJQcBnI7uvTg",
        "outputId": "72baac1d-7ab3-44dc-e3df-30b91b5b21c2"
      },
      "outputs": [
        {
          "data": {
            "image/png": "[encoded data removed]",
            "text/plain": [
              "<Figure size 640x480 with 1 Axes>"
            ]
          },
          "metadata": {},
          "output_type": "display_data"
        },
        {
          "data": {
            "image/png": "[encoded data removed]",
            "text/plain": [
              "<Figure size 640x480 with 1 Axes>"
            ]
          },
          "metadata": {},
          "output_type": "display_data"
        }
      ],
      "source": [
        "get_plot(trainer_resnet152, \"loss\", \"ResNet152\")\n",
        "get_plot(trainer_resnet152, \"acc\", \"ResNet152\")"
      ]
    },
    {
      "cell_type": "markdown",
      "metadata": {
        "id": "3WonvQ8c-oPn"
      },
      "source": [
        "### Test"
      ]
    },
    {
      "cell_type": "code",
      "execution_count": 63,
      "metadata": {
        "id": "6koQ4nGq403V"
      },
      "outputs": [],
      "source": [
        "class Tester:\n",
        "    def __init__(self, model, dataloader_test):\n",
        "        self.dataloader_test = dataloader_test\n",
        "        self.model = model\n",
        "    def test(self):\n",
        "        torch.cuda.empty_cache()\n",
        "        device = torch.device(\"cuda\" if torch.cuda.is_available() else \"cpu\")\n",
        "        model_test = self.model\n",
        "        model_test.to(device)\n",
        "        pbar_test = tqdm(self.dataloader_test)\n",
        "        total_test = 0\n",
        "        total_correct_test = 0\n",
        "        for a, b in pbar_test:\n",
        "            a = a.to(device)\n",
        "            b = b.to(device)\n",
        "            out = model_test(a)\n",
        "            total_correct_test += (torch.argmax(out, dim=1) == b).sum().item()\n",
        "            total_test += b.size(0)\n",
        "            acc_test = total_correct_test/total_test\n",
        "            pbar_test.set_description(f'Acc_test: {acc_test}')"
      ]
    },
    {
      "cell_type": "markdown",
      "metadata": {
        "id": "xq73SRLxsqUF"
      },
      "source": [
        "### Test with resnet50"
      ]
    },
    {
      "cell_type": "code",
      "execution_count": 61,
      "metadata": {
        "colab": {
          "base_uri": "https://localhost:8080/"
        },
        "execution": {
          "iopub.execute_input": "2024-12-12T05:00:43.129165Z",
          "iopub.status.busy": "2024-12-12T05:00:43.128830Z",
          "iopub.status.idle": "2024-12-12T05:00:43.724610Z",
          "shell.execute_reply": "2024-12-12T05:00:43.721218Z",
          "shell.execute_reply.started": "2024-12-12T05:00:43.129132Z"
        },
        "id": "5oAS5xHbcWjk",
        "outputId": "7bed04e0-2419-420e-ce18-f391bdde6baa",
        "trusted": true
      },
      "outputs": [
        {
          "data": {
            "text/plain": [
              "<All keys matched successfully>"
            ]
          },
          "execution_count": 61,
          "metadata": {},
          "output_type": "execute_result"
        }
      ],
      "source": [
        "# model_save = LSTM(CNNPretrained, 512, 5, 8)\n",
        "model_resnet50_save = RNN(Resnet50, HIDDEN_SIZE, NUM_CLASSES, BATCH_SIZE)\n",
        "model_resnet50_save.load_state_dict(torch.load(\"./model50-rnn_checkpoint.pt\", weights_only=True))"
      ]
    },
    {
      "cell_type": "code",
      "execution_count": 64,
      "metadata": {
        "colab": {
          "base_uri": "https://localhost:8080/"
        },
        "id": "FuP2GnSH403V",
        "outputId": "d17a95c1-31bb-46eb-a924-ecd13db7495d"
      },
      "outputs": [
        {
          "name": "stderr",
          "output_type": "stream",
          "text": [
            "Acc_test: 0.71875: 100%|██████████| 7/7 [00:21<00:00,  3.12s/it]\n"
          ]
        }
      ],
      "source": [
        "test_resnet50 = Tester(model_resnet50_save, test_dataloader)\n",
        "test_resnet50.test()"
      ]
    },
    {
      "cell_type": "markdown",
      "metadata": {
        "id": "DuEZ1kMGs9l6"
      },
      "source": [
        "#### Test with resnet101"
      ]
    },
    {
      "cell_type": "code",
      "execution_count": 67,
      "metadata": {
        "colab": {
          "base_uri": "https://localhost:8080/"
        },
        "id": "5_LRCYPQs9IT",
        "outputId": "3340997b-3f74-47d4-a6fa-73759a720378"
      },
      "outputs": [
        {
          "data": {
            "text/plain": [
              "<All keys matched successfully>"
            ]
          },
          "execution_count": 67,
          "metadata": {},
          "output_type": "execute_result"
        }
      ],
      "source": [
        "# model_save = LSTM(CNNPretrained, 512, 5, 8)\n",
        "model_resnet101_save = RNN(Resnet101, HIDDEN_SIZE, NUM_CLASSES, BATCH_SIZE)\n",
        "model_resnet101_save.load_state_dict(torch.load(\"./model101-rnn_checkpoint.pt\", weights_only=True))"
      ]
    },
    {
      "cell_type": "code",
      "execution_count": 68,
      "metadata": {
        "colab": {
          "base_uri": "https://localhost:8080/"
        },
        "id": "NLCJ-FvHtEZT",
        "outputId": "6c8f66d8-fe27-4d70-aef8-3ad7151f559c"
      },
      "outputs": [
        {
          "name": "stderr",
          "output_type": "stream",
          "text": [
            "Acc_test: 0.7723214285714286: 100%|██████████| 7/7 [00:35<00:00,  5.06s/it]\n"
          ]
        }
      ],
      "source": [
        "test_resnet101 = Tester(model_resnet101_save, test_dataloader)\n",
        "test_resnet101.test()"
      ]
    },
    {
      "cell_type": "markdown",
      "metadata": {
        "id": "S2tprXBctGNS"
      },
      "source": [
        "#### Test with resnet152"
      ]
    },
    {
      "cell_type": "code",
      "execution_count": 70,
      "metadata": {
        "colab": {
          "base_uri": "https://localhost:8080/"
        },
        "id": "PapM3lQBtFya",
        "outputId": "9018ae99-af9d-4628-caea-41dc0de3bea5"
      },
      "outputs": [
        {
          "data": {
            "text/plain": [
              "<All keys matched successfully>"
            ]
          },
          "execution_count": 70,
          "metadata": {},
          "output_type": "execute_result"
        }
      ],
      "source": [
        "# model_save = LSTM(CNNPretrained, 512, 5, 8)\n",
        "model_resnet152_save = RNN(Resnet152, HIDDEN_SIZE, NUM_CLASSES, BATCH_SIZE)\n",
        "model_resnet152_save.load_state_dict(torch.load(\"./model152-rnn_checkpoint.pt\", weights_only=True))"
      ]
    },
    {
      "cell_type": "code",
      "execution_count": 71,
      "metadata": {
        "colab": {
          "base_uri": "https://localhost:8080/"
        },
        "id": "8jUxvhNrtKj_",
        "outputId": "17e7246b-407c-4fb5-827c-4defae6fa535"
      },
      "outputs": [
        {
          "name": "stderr",
          "output_type": "stream",
          "text": [
            "Acc_test: 0.75: 100%|██████████| 7/7 [00:50<00:00,  7.15s/it]\n"
          ]
        }
      ],
      "source": [
        "test_resnet152 = Tester(model_resnet152_save, test_dataloader)\n",
        "test_resnet152.test()"
      ]
    },
    {
      "cell_type": "code",
      "execution_count": null,
      "metadata": {
        "id": "chrlLD4VtMYt"
      },
      "outputs": [],
      "source": []
    }
  ],
  "metadata": {
    "accelerator": "GPU",
    "colab": {
      "collapsed_sections": [
        "qTRZy_or403H",
        "XjqhE2YY4z-R",
        "7XSTEo6H403L",
        "RwnTT3Er403M",
        "k9Uf3Pwi403N",
        "Ssdu0yDH403Q"
      ],
      "gpuType": "T4",
      "provenance": []
    },
    "kaggle": {
      "accelerator": "gpu",
      "dataSources": [
        {
          "databundleVersionId": 6970701,
          "datasetId": 3955447,
          "sourceId": 6884747,
          "sourceType": "datasetVersion"
        }
      ],
      "dockerImageVersionId": 30805,
      "isGpuEnabled": true,
      "isInternetEnabled": true,
      "language": "python",
      "sourceType": "notebook"
    },
    "kernelspec": {
      "display_name": "Python 3",
      "name": "python3"
    },
    "language_info": {
      "codemirror_mode": {
        "name": "ipython",
        "version": 3
      },
      "file_extension": ".py",
      "mimetype": "text/x-python",
      "name": "python",
      "nbconvert_exporter": "python",
      "pygments_lexer": "ipython3",
      "version": "3.10.14"
    }
  },
  "nbformat": 4,
  "nbformat_minor": 0
}
